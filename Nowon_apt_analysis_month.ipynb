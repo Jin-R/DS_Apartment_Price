{
 "cells": [
  {
   "cell_type": "code",
   "execution_count": 1,
   "metadata": {},
   "outputs": [],
   "source": [
    "import pandas as pd\n",
    "import numpy as np\n",
    "\n",
    "from sklearn.model_selection import train_test_split\n",
    "from sklearn.linear_model import LinearRegression\n",
    "\n",
    "from sklearn.ensemble import RandomForestRegressor\n",
    "from sklearn.model_selection import GridSearchCV\n",
    "from sklearn.metrics import accuracy_score\n",
    "\n",
    "import statsmodels.api as sm\n",
    "from statsmodels.stats.outliers_influence import variance_inflation_factor\n",
    "\n",
    "import seaborn as sns\n",
    "import matplotlib.pyplot as plt\n",
    "from matplotlib import font_manager, rc"
   ]
  },
  {
   "cell_type": "code",
   "execution_count": 2,
   "metadata": {},
   "outputs": [
    {
     "name": "stdout",
     "output_type": "stream",
     "text": [
      "['Malgun Gothic']\n"
     ]
    }
   ],
   "source": [
    "plt.rcParams['font.family'] = 'Malgun Gothic'\n",
    "print(plt.rcParams['font.family'])"
   ]
  },
  {
   "cell_type": "code",
   "execution_count": 3,
   "metadata": {},
   "outputs": [
    {
     "data": {
      "text/html": [
       "<div>\n",
       "<style scoped>\n",
       "    .dataframe tbody tr th:only-of-type {\n",
       "        vertical-align: middle;\n",
       "    }\n",
       "\n",
       "    .dataframe tbody tr th {\n",
       "        vertical-align: top;\n",
       "    }\n",
       "\n",
       "    .dataframe thead th {\n",
       "        text-align: right;\n",
       "    }\n",
       "</style>\n",
       "<table border=\"1\" class=\"dataframe\">\n",
       "  <thead>\n",
       "    <tr style=\"text-align: right;\">\n",
       "      <th></th>\n",
       "      <th>시군구</th>\n",
       "      <th>번지</th>\n",
       "      <th>본번</th>\n",
       "      <th>부번</th>\n",
       "      <th>단지명</th>\n",
       "      <th>전월세구분</th>\n",
       "      <th>전용면적(㎡)</th>\n",
       "      <th>계약년월</th>\n",
       "      <th>계약일</th>\n",
       "      <th>전월세(만원)</th>\n",
       "      <th>...</th>\n",
       "      <th>브랜드</th>\n",
       "      <th>주차관제</th>\n",
       "      <th>승강기</th>\n",
       "      <th>복도유형</th>\n",
       "      <th>난방방식</th>\n",
       "      <th>단지명(K-apt)</th>\n",
       "      <th>일반관리</th>\n",
       "      <th>경비관리</th>\n",
       "      <th>청소관리</th>\n",
       "      <th>임대차3법</th>\n",
       "    </tr>\n",
       "  </thead>\n",
       "  <tbody>\n",
       "    <tr>\n",
       "      <th>18</th>\n",
       "      <td>서울특별시 노원구 공릉동</td>\n",
       "      <td>744</td>\n",
       "      <td>744</td>\n",
       "      <td>0</td>\n",
       "      <td>건영장미아파트</td>\n",
       "      <td>월세</td>\n",
       "      <td>59.87</td>\n",
       "      <td>202002</td>\n",
       "      <td>29</td>\n",
       "      <td>23500</td>\n",
       "      <td>...</td>\n",
       "      <td>0</td>\n",
       "      <td>0.0</td>\n",
       "      <td>5.0</td>\n",
       "      <td>0.0</td>\n",
       "      <td>0.0</td>\n",
       "      <td>공릉건영장미</td>\n",
       "      <td>3.0</td>\n",
       "      <td>2.0</td>\n",
       "      <td>2.0</td>\n",
       "      <td>0</td>\n",
       "    </tr>\n",
       "    <tr>\n",
       "      <th>19</th>\n",
       "      <td>서울특별시 노원구 공릉동</td>\n",
       "      <td>744</td>\n",
       "      <td>744</td>\n",
       "      <td>0</td>\n",
       "      <td>건영장미아파트</td>\n",
       "      <td>월세</td>\n",
       "      <td>59.87</td>\n",
       "      <td>202004</td>\n",
       "      <td>11</td>\n",
       "      <td>27000</td>\n",
       "      <td>...</td>\n",
       "      <td>0</td>\n",
       "      <td>0.0</td>\n",
       "      <td>5.0</td>\n",
       "      <td>0.0</td>\n",
       "      <td>0.0</td>\n",
       "      <td>공릉건영장미</td>\n",
       "      <td>3.0</td>\n",
       "      <td>2.0</td>\n",
       "      <td>2.0</td>\n",
       "      <td>0</td>\n",
       "    </tr>\n",
       "    <tr>\n",
       "      <th>20</th>\n",
       "      <td>서울특별시 노원구 공릉동</td>\n",
       "      <td>744</td>\n",
       "      <td>744</td>\n",
       "      <td>0</td>\n",
       "      <td>건영장미아파트</td>\n",
       "      <td>월세</td>\n",
       "      <td>59.87</td>\n",
       "      <td>202007</td>\n",
       "      <td>7</td>\n",
       "      <td>26000</td>\n",
       "      <td>...</td>\n",
       "      <td>0</td>\n",
       "      <td>0.0</td>\n",
       "      <td>5.0</td>\n",
       "      <td>0.0</td>\n",
       "      <td>0.0</td>\n",
       "      <td>공릉건영장미</td>\n",
       "      <td>3.0</td>\n",
       "      <td>2.0</td>\n",
       "      <td>2.0</td>\n",
       "      <td>0</td>\n",
       "    </tr>\n",
       "    <tr>\n",
       "      <th>21</th>\n",
       "      <td>서울특별시 노원구 공릉동</td>\n",
       "      <td>744</td>\n",
       "      <td>744</td>\n",
       "      <td>0</td>\n",
       "      <td>건영장미아파트</td>\n",
       "      <td>월세</td>\n",
       "      <td>84.88</td>\n",
       "      <td>202007</td>\n",
       "      <td>28</td>\n",
       "      <td>6500</td>\n",
       "      <td>...</td>\n",
       "      <td>0</td>\n",
       "      <td>0.0</td>\n",
       "      <td>5.0</td>\n",
       "      <td>0.0</td>\n",
       "      <td>0.0</td>\n",
       "      <td>공릉건영장미</td>\n",
       "      <td>3.0</td>\n",
       "      <td>2.0</td>\n",
       "      <td>2.0</td>\n",
       "      <td>0</td>\n",
       "    </tr>\n",
       "    <tr>\n",
       "      <th>22</th>\n",
       "      <td>서울특별시 노원구 공릉동</td>\n",
       "      <td>744</td>\n",
       "      <td>744</td>\n",
       "      <td>0</td>\n",
       "      <td>건영장미아파트</td>\n",
       "      <td>월세</td>\n",
       "      <td>84.88</td>\n",
       "      <td>202009</td>\n",
       "      <td>12</td>\n",
       "      <td>33000</td>\n",
       "      <td>...</td>\n",
       "      <td>0</td>\n",
       "      <td>0.0</td>\n",
       "      <td>5.0</td>\n",
       "      <td>0.0</td>\n",
       "      <td>0.0</td>\n",
       "      <td>공릉건영장미</td>\n",
       "      <td>3.0</td>\n",
       "      <td>2.0</td>\n",
       "      <td>2.0</td>\n",
       "      <td>1</td>\n",
       "    </tr>\n",
       "  </tbody>\n",
       "</table>\n",
       "<p>5 rows × 33 columns</p>\n",
       "</div>"
      ],
      "text/plain": [
       "              시군구   번지   본번  부번      단지명 전월세구분  전용면적(㎡)    계약년월  계약일  전월세(만원)  \\\n",
       "18  서울특별시 노원구 공릉동  744  744   0  건영장미아파트    월세    59.87  202002   29    23500   \n",
       "19  서울특별시 노원구 공릉동  744  744   0  건영장미아파트    월세    59.87  202004   11    27000   \n",
       "20  서울특별시 노원구 공릉동  744  744   0  건영장미아파트    월세    59.87  202007    7    26000   \n",
       "21  서울특별시 노원구 공릉동  744  744   0  건영장미아파트    월세    84.88  202007   28     6500   \n",
       "22  서울특별시 노원구 공릉동  744  744   0  건영장미아파트    월세    84.88  202009   12    33000   \n",
       "\n",
       "    ...  브랜드  주차관제  승강기 복도유형  난방방식  단지명(K-apt)  일반관리  경비관리  청소관리  임대차3법  \n",
       "18  ...    0   0.0  5.0  0.0   0.0      공릉건영장미   3.0   2.0   2.0      0  \n",
       "19  ...    0   0.0  5.0  0.0   0.0      공릉건영장미   3.0   2.0   2.0      0  \n",
       "20  ...    0   0.0  5.0  0.0   0.0      공릉건영장미   3.0   2.0   2.0      0  \n",
       "21  ...    0   0.0  5.0  0.0   0.0      공릉건영장미   3.0   2.0   2.0      0  \n",
       "22  ...    0   0.0  5.0  0.0   0.0      공릉건영장미   3.0   2.0   2.0      1  \n",
       "\n",
       "[5 rows x 33 columns]"
      ]
     },
     "execution_count": 3,
     "metadata": {},
     "output_type": "execute_result"
    }
   ],
   "source": [
    "df_month=pd.read_csv('../data/month_nowon.csv')\n",
    "df_month=df_month.dropna()\n",
    "df_month.head()"
   ]
  },
  {
   "cell_type": "code",
   "execution_count": 4,
   "metadata": {},
   "outputs": [
    {
     "name": "stdout",
     "output_type": "stream",
     "text": [
      "Index(['시군구', '번지', '본번', '부번', '단지명', '전월세구분', '전용면적(㎡)', '계약년월', '계약일',\n",
      "       '전월세(만원)', '층', '세대수', '건축년도', '도로명', '위도', '경도', '초등학교', '병원', '공원',\n",
      "       '대형마트', '백화점', 'cctv', '주차대수', '브랜드', '주차관제', '승강기', '복도유형', '난방방식',\n",
      "       '단지명(K-apt)', '일반관리', '경비관리', '청소관리', '임대차3법'],\n",
      "      dtype='object')\n"
     ]
    }
   ],
   "source": [
    "print(df_month.columns)"
   ]
  },
  {
   "cell_type": "code",
   "execution_count": 5,
   "metadata": {},
   "outputs": [
    {
     "name": "stdout",
     "output_type": "stream",
     "text": [
      "전용면적(㎡) : 0.8478146633700079\n",
      "층 : 0.08441352181952244\n",
      "세대수 : -0.22174189456444052\n",
      "건축년도 : 0.24131784106312032\n",
      "초등학교 : 0.07530307291272917\n",
      "병원 : -0.11032968296348866\n",
      "공원 : 0.1304251469584441\n",
      "대형마트 : -0.16946012377367026\n",
      "백화점 : 0.12890829574329157\n",
      "cctv : 0.14279741623921777\n",
      "주차대수 : 0.027829731669095126\n",
      "브랜드 : 0.2443089851822218\n",
      "주차관제 : 0.07854125967447381\n",
      "승강기 : 0.09064852743760379\n",
      "난방방식 : -0.11294310004979004\n",
      "복도유형 : -0.31435904129140085\n",
      "일반관리 : -0.18808966923066453\n",
      "경비관리 : -0.17861889274944098\n",
      "청소관리 : -0.12200578293471577\n",
      "임대차3법 : 0.1474474437770754\n"
     ]
    }
   ],
   "source": [
    "# correlation\n",
    "var=['전용면적(㎡)','층','세대수','건축년도','초등학교','병원','공원','대형마트','백화점','cctv','주차대수','브랜드','주차관제','승강기','난방방식','복도유형','일반관리','경비관리','청소관리','임대차3법']\n",
    "\n",
    "for i in range(len(var)):\n",
    "    corr=np.corrcoef(df_month[var[i]],df_month['전월세(만원)'])[0,1]\n",
    "    print(var[i],':',corr)"
   ]
  },
  {
   "cell_type": "code",
   "execution_count": 6,
   "metadata": {},
   "outputs": [],
   "source": [
    "lm_df=df_month\n",
    "lm_df['대형마트'] = np.log(lm_df['대형마트'])\n",
    "lm_df['주차대수'] = np.log(lm_df['주차대수'])"
   ]
  },
  {
   "cell_type": "code",
   "execution_count": 7,
   "metadata": {},
   "outputs": [],
   "source": [
    "att=['전용면적(㎡)','층','세대수','건축년도','병원','대형마트','백화점','주차대수','브랜드','주차관제','승강기','난방방식','복도유형','임대차3법']\n",
    "x1=lm_df[att]\n",
    "y1=lm_df['전월세(만원)']"
   ]
  },
  {
   "cell_type": "code",
   "execution_count": 8,
   "metadata": {},
   "outputs": [
    {
     "data": {
      "text/html": [
       "<table class=\"simpletable\">\n",
       "<caption>OLS Regression Results</caption>\n",
       "<tr>\n",
       "  <th>Dep. Variable:</th>         <td>전월세(만원)</td>     <th>  R-squared:         </th> <td>   0.782</td> \n",
       "</tr>\n",
       "<tr>\n",
       "  <th>Model:</th>                   <td>OLS</td>       <th>  Adj. R-squared:    </th> <td>   0.781</td> \n",
       "</tr>\n",
       "<tr>\n",
       "  <th>Method:</th>             <td>Least Squares</td>  <th>  F-statistic:       </th> <td>   840.0</td> \n",
       "</tr>\n",
       "<tr>\n",
       "  <th>Date:</th>             <td>Wed, 29 Sep 2021</td> <th>  Prob (F-statistic):</th>  <td>  0.00</td>  \n",
       "</tr>\n",
       "<tr>\n",
       "  <th>Time:</th>                 <td>11:07:09</td>     <th>  Log-Likelihood:    </th> <td> -32829.</td> \n",
       "</tr>\n",
       "<tr>\n",
       "  <th>No. Observations:</th>      <td>  3287</td>      <th>  AIC:               </th> <td>6.569e+04</td>\n",
       "</tr>\n",
       "<tr>\n",
       "  <th>Df Residuals:</th>          <td>  3272</td>      <th>  BIC:               </th> <td>6.578e+04</td>\n",
       "</tr>\n",
       "<tr>\n",
       "  <th>Df Model:</th>              <td>    14</td>      <th>                     </th>     <td> </td>    \n",
       "</tr>\n",
       "<tr>\n",
       "  <th>Covariance Type:</th>      <td>nonrobust</td>    <th>                     </th>     <td> </td>    \n",
       "</tr>\n",
       "</table>\n",
       "<table class=\"simpletable\">\n",
       "<tr>\n",
       "     <td></td>        <th>coef</th>     <th>std err</th>      <th>t</th>      <th>P>|t|</th>  <th>[0.025</th>    <th>0.975]</th>  \n",
       "</tr>\n",
       "<tr>\n",
       "  <th>const</th>   <td>-3.092e+05</td> <td> 4.43e+04</td> <td>   -6.984</td> <td> 0.000</td> <td>-3.96e+05</td> <td>-2.22e+05</td>\n",
       "</tr>\n",
       "<tr>\n",
       "  <th>전용면적(㎡)</th> <td>  481.0548</td> <td>    5.992</td> <td>   80.284</td> <td> 0.000</td> <td>  469.306</td> <td>  492.803</td>\n",
       "</tr>\n",
       "<tr>\n",
       "  <th>층</th>       <td>   80.8007</td> <td>   20.212</td> <td>    3.998</td> <td> 0.000</td> <td>   41.171</td> <td>  120.431</td>\n",
       "</tr>\n",
       "<tr>\n",
       "  <th>세대수</th>     <td>   -1.4794</td> <td>    0.236</td> <td>   -6.276</td> <td> 0.000</td> <td>   -1.942</td> <td>   -1.017</td>\n",
       "</tr>\n",
       "<tr>\n",
       "  <th>건축년도</th>    <td>  148.8419</td> <td>   22.223</td> <td>    6.698</td> <td> 0.000</td> <td>  105.270</td> <td>  192.414</td>\n",
       "</tr>\n",
       "<tr>\n",
       "  <th>병원</th>      <td> -541.1807</td> <td>  136.708</td> <td>   -3.959</td> <td> 0.000</td> <td> -809.223</td> <td> -273.138</td>\n",
       "</tr>\n",
       "<tr>\n",
       "  <th>대형마트</th>    <td>-2847.1057</td> <td>  237.934</td> <td>  -11.966</td> <td> 0.000</td> <td>-3313.620</td> <td>-2380.591</td>\n",
       "</tr>\n",
       "<tr>\n",
       "  <th>백화점</th>     <td> -458.9517</td> <td>  104.666</td> <td>   -4.385</td> <td> 0.000</td> <td> -664.169</td> <td> -253.734</td>\n",
       "</tr>\n",
       "<tr>\n",
       "  <th>주차대수</th>    <td> 1577.7078</td> <td>  283.720</td> <td>    5.561</td> <td> 0.000</td> <td> 1021.421</td> <td> 2133.995</td>\n",
       "</tr>\n",
       "<tr>\n",
       "  <th>브랜드</th>     <td> 5186.0590</td> <td>  790.845</td> <td>    6.558</td> <td> 0.000</td> <td> 3635.457</td> <td> 6736.661</td>\n",
       "</tr>\n",
       "<tr>\n",
       "  <th>주차관제</th>    <td>-2600.7409</td> <td>  391.036</td> <td>   -6.651</td> <td> 0.000</td> <td>-3367.441</td> <td>-1834.040</td>\n",
       "</tr>\n",
       "<tr>\n",
       "  <th>승강기</th>     <td>   50.1772</td> <td>   15.057</td> <td>    3.332</td> <td> 0.001</td> <td>   20.654</td> <td>   79.700</td>\n",
       "</tr>\n",
       "<tr>\n",
       "  <th>난방방식</th>    <td> 1136.4591</td> <td>  184.019</td> <td>    6.176</td> <td> 0.000</td> <td>  775.655</td> <td> 1497.263</td>\n",
       "</tr>\n",
       "<tr>\n",
       "  <th>복도유형</th>    <td>-1865.2985</td> <td>  221.428</td> <td>   -8.424</td> <td> 0.000</td> <td>-2299.451</td> <td>-1431.146</td>\n",
       "</tr>\n",
       "<tr>\n",
       "  <th>임대차3법</th>   <td> 1935.0017</td> <td>  190.771</td> <td>   10.143</td> <td> 0.000</td> <td> 1560.959</td> <td> 2309.045</td>\n",
       "</tr>\n",
       "</table>\n",
       "<table class=\"simpletable\">\n",
       "<tr>\n",
       "  <th>Omnibus:</th>       <td>517.330</td> <th>  Durbin-Watson:     </th> <td>   1.201</td>\n",
       "</tr>\n",
       "<tr>\n",
       "  <th>Prob(Omnibus):</th> <td> 0.000</td>  <th>  Jarque-Bera (JB):  </th> <td>8737.199</td>\n",
       "</tr>\n",
       "<tr>\n",
       "  <th>Skew:</th>          <td>-0.118</td>  <th>  Prob(JB):          </th> <td>    0.00</td>\n",
       "</tr>\n",
       "<tr>\n",
       "  <th>Kurtosis:</th>      <td>10.984</td>  <th>  Cond. No.          </th> <td>1.29e+06</td>\n",
       "</tr>\n",
       "</table><br/><br/>Notes:<br/>[1] Standard Errors assume that the covariance matrix of the errors is correctly specified.<br/>[2] The condition number is large, 1.29e+06. This might indicate that there are<br/>strong multicollinearity or other numerical problems."
      ],
      "text/plain": [
       "<class 'statsmodels.iolib.summary.Summary'>\n",
       "\"\"\"\n",
       "                            OLS Regression Results                            \n",
       "==============================================================================\n",
       "Dep. Variable:                전월세(만원)   R-squared:                       0.782\n",
       "Model:                            OLS   Adj. R-squared:                  0.781\n",
       "Method:                 Least Squares   F-statistic:                     840.0\n",
       "Date:                Wed, 29 Sep 2021   Prob (F-statistic):               0.00\n",
       "Time:                        11:07:09   Log-Likelihood:                -32829.\n",
       "No. Observations:                3287   AIC:                         6.569e+04\n",
       "Df Residuals:                    3272   BIC:                         6.578e+04\n",
       "Df Model:                          14                                         \n",
       "Covariance Type:            nonrobust                                         \n",
       "==============================================================================\n",
       "                 coef    std err          t      P>|t|      [0.025      0.975]\n",
       "------------------------------------------------------------------------------\n",
       "const      -3.092e+05   4.43e+04     -6.984      0.000   -3.96e+05   -2.22e+05\n",
       "전용면적(㎡)      481.0548      5.992     80.284      0.000     469.306     492.803\n",
       "층             80.8007     20.212      3.998      0.000      41.171     120.431\n",
       "세대수           -1.4794      0.236     -6.276      0.000      -1.942      -1.017\n",
       "건축년도         148.8419     22.223      6.698      0.000     105.270     192.414\n",
       "병원          -541.1807    136.708     -3.959      0.000    -809.223    -273.138\n",
       "대형마트       -2847.1057    237.934    -11.966      0.000   -3313.620   -2380.591\n",
       "백화점         -458.9517    104.666     -4.385      0.000    -664.169    -253.734\n",
       "주차대수        1577.7078    283.720      5.561      0.000    1021.421    2133.995\n",
       "브랜드         5186.0590    790.845      6.558      0.000    3635.457    6736.661\n",
       "주차관제       -2600.7409    391.036     -6.651      0.000   -3367.441   -1834.040\n",
       "승강기           50.1772     15.057      3.332      0.001      20.654      79.700\n",
       "난방방식        1136.4591    184.019      6.176      0.000     775.655    1497.263\n",
       "복도유형       -1865.2985    221.428     -8.424      0.000   -2299.451   -1431.146\n",
       "임대차3법       1935.0017    190.771     10.143      0.000    1560.959    2309.045\n",
       "==============================================================================\n",
       "Omnibus:                      517.330   Durbin-Watson:                   1.201\n",
       "Prob(Omnibus):                  0.000   Jarque-Bera (JB):             8737.199\n",
       "Skew:                          -0.118   Prob(JB):                         0.00\n",
       "Kurtosis:                      10.984   Cond. No.                     1.29e+06\n",
       "==============================================================================\n",
       "\n",
       "Notes:\n",
       "[1] Standard Errors assume that the covariance matrix of the errors is correctly specified.\n",
       "[2] The condition number is large, 1.29e+06. This might indicate that there are\n",
       "strong multicollinearity or other numerical problems.\n",
       "\"\"\""
      ]
     },
     "execution_count": 8,
     "metadata": {},
     "output_type": "execute_result"
    }
   ],
   "source": [
    "# OLS Regression\n",
    "x2 = sm.add_constant(x1, has_constant = \"add\")\n",
    "multi_model=sm.OLS(y1,x2)\n",
    "fitted=multi_model.fit()\n",
    "fitted.summary()"
   ]
  },
  {
   "cell_type": "code",
   "execution_count": 9,
   "metadata": {},
   "outputs": [
    {
     "data": {
      "text/html": [
       "<div>\n",
       "<style scoped>\n",
       "    .dataframe tbody tr th:only-of-type {\n",
       "        vertical-align: middle;\n",
       "    }\n",
       "\n",
       "    .dataframe tbody tr th {\n",
       "        vertical-align: top;\n",
       "    }\n",
       "\n",
       "    .dataframe thead th {\n",
       "        text-align: right;\n",
       "    }\n",
       "</style>\n",
       "<table border=\"1\" class=\"dataframe\">\n",
       "  <thead>\n",
       "    <tr style=\"text-align: right;\">\n",
       "      <th></th>\n",
       "      <th>column</th>\n",
       "      <th>VIF</th>\n",
       "    </tr>\n",
       "  </thead>\n",
       "  <tbody>\n",
       "    <tr>\n",
       "      <th>0</th>\n",
       "      <td>const</td>\n",
       "      <td>231522.061780</td>\n",
       "    </tr>\n",
       "    <tr>\n",
       "      <th>1</th>\n",
       "      <td>전용면적(㎡)</td>\n",
       "      <td>1.391013</td>\n",
       "    </tr>\n",
       "    <tr>\n",
       "      <th>2</th>\n",
       "      <td>층</td>\n",
       "      <td>1.030885</td>\n",
       "    </tr>\n",
       "    <tr>\n",
       "      <th>3</th>\n",
       "      <td>세대수</td>\n",
       "      <td>5.944547</td>\n",
       "    </tr>\n",
       "    <tr>\n",
       "      <th>4</th>\n",
       "      <td>건축년도</td>\n",
       "      <td>2.594289</td>\n",
       "    </tr>\n",
       "    <tr>\n",
       "      <th>5</th>\n",
       "      <td>병원</td>\n",
       "      <td>2.058667</td>\n",
       "    </tr>\n",
       "    <tr>\n",
       "      <th>6</th>\n",
       "      <td>대형마트</td>\n",
       "      <td>2.113150</td>\n",
       "    </tr>\n",
       "    <tr>\n",
       "      <th>7</th>\n",
       "      <td>백화점</td>\n",
       "      <td>1.563792</td>\n",
       "    </tr>\n",
       "    <tr>\n",
       "      <th>8</th>\n",
       "      <td>주차대수</td>\n",
       "      <td>4.704180</td>\n",
       "    </tr>\n",
       "    <tr>\n",
       "      <th>9</th>\n",
       "      <td>브랜드</td>\n",
       "      <td>1.302290</td>\n",
       "    </tr>\n",
       "    <tr>\n",
       "      <th>10</th>\n",
       "      <td>주차관제</td>\n",
       "      <td>1.375558</td>\n",
       "    </tr>\n",
       "    <tr>\n",
       "      <th>11</th>\n",
       "      <td>승강기</td>\n",
       "      <td>4.322482</td>\n",
       "    </tr>\n",
       "    <tr>\n",
       "      <th>12</th>\n",
       "      <td>난방방식</td>\n",
       "      <td>1.291139</td>\n",
       "    </tr>\n",
       "    <tr>\n",
       "      <th>13</th>\n",
       "      <td>복도유형</td>\n",
       "      <td>1.444184</td>\n",
       "    </tr>\n",
       "    <tr>\n",
       "      <th>14</th>\n",
       "      <td>임대차3법</td>\n",
       "      <td>1.014996</td>\n",
       "    </tr>\n",
       "  </tbody>\n",
       "</table>\n",
       "</div>"
      ],
      "text/plain": [
       "     column            VIF\n",
       "0     const  231522.061780\n",
       "1   전용면적(㎡)       1.391013\n",
       "2         층       1.030885\n",
       "3       세대수       5.944547\n",
       "4      건축년도       2.594289\n",
       "5        병원       2.058667\n",
       "6      대형마트       2.113150\n",
       "7       백화점       1.563792\n",
       "8      주차대수       4.704180\n",
       "9       브랜드       1.302290\n",
       "10     주차관제       1.375558\n",
       "11      승강기       4.322482\n",
       "12     난방방식       1.291139\n",
       "13     복도유형       1.444184\n",
       "14    임대차3법       1.014996"
      ]
     },
     "execution_count": 9,
     "metadata": {},
     "output_type": "execute_result"
    }
   ],
   "source": [
    "# VIF\n",
    "pd.DataFrame({'column': column, 'VIF': variance_inflation_factor(multi_model.exog, i)} \n",
    "             for i, column in enumerate(multi_model.exog_names)\n",
    "             if column != 'Intercept')"
   ]
  },
  {
   "cell_type": "code",
   "execution_count": 10,
   "metadata": {},
   "outputs": [
    {
     "name": "stdout",
     "output_type": "stream",
     "text": [
      "Training Features Shape: (2300, 14)\n",
      "Training Labels Shape: (2300,)\n",
      "Testing Features Shape: (987, 14)\n",
      "Testing Labels Shape: (987,)\n"
     ]
    }
   ],
   "source": [
    "# Linear Regression\n",
    "x1_train, x1_test, y1_train, y1_test = train_test_split(x1, y1, train_size=0.7, test_size=0.3)\n",
    "\n",
    "y1_train=np.array(y1_train).ravel()\n",
    "y1_test=np.array(y1_test).ravel()\n",
    "\n",
    "print('Training Features Shape:', x1_train.shape)\n",
    "print('Training Labels Shape:', y1_train.shape)\n",
    "print('Testing Features Shape:', x1_test.shape)\n",
    "print('Testing Labels Shape:', y1_test.shape)"
   ]
  },
  {
   "cell_type": "code",
   "execution_count": 11,
   "metadata": {},
   "outputs": [
    {
     "data": {
      "text/plain": [
       "<function matplotlib.pyplot.show(close=None, block=None)>"
      ]
     },
     "execution_count": 11,
     "metadata": {},
     "output_type": "execute_result"
    },
    {
     "data": {
      "image/png": "[encoded data removed]",
      "text/plain": [
       "<Figure size 432x288 with 1 Axes>"
      ]
     },
     "metadata": {
      "needs_background": "light"
     },
     "output_type": "display_data"
    }
   ],
   "source": [
    "mlr=LinearRegression()\n",
    "mlr.fit(x1_train,y1_train)\n",
    "y1_predict=mlr.predict(x1_test)\n",
    "plt.scatter(y1_test,y1_predict,alpha=0.4)\n",
    "plt.xlabel('테스트 데이터')\n",
    "plt.ylabel('예측값')\n",
    "plt.show"
   ]
  },
  {
   "cell_type": "code",
   "execution_count": 12,
   "metadata": {},
   "outputs": [
    {
     "name": "stdout",
     "output_type": "stream",
     "text": [
      "0.7750081054241664\n"
     ]
    }
   ],
   "source": [
    "print(mlr.score(x1_train,y1_train))"
   ]
  },
  {
   "cell_type": "code",
   "execution_count": 13,
   "metadata": {},
   "outputs": [],
   "source": [
    "# Random Forest Regressor\n",
    "att=['전용면적(㎡)','층','세대수','건축년도','초등학교','병원','공원','대형마트','백화점','주차대수','브랜드','주차관제','승강기','난방방식','복도유형','임대차3법']\n",
    "\n",
    "rf_x1=df_month[att]\n",
    "rf_y1=df_month[['전월세(만원)']]\n",
    "x2_train, x2_test, y2_train, y2_test = train_test_split(rf_x1, rf_y1, train_size=0.8, test_size=0.2)\n",
    "\n",
    "y2_train=np.array(y2_train).ravel()\n",
    "y2_test=np.array(y2_test).ravel()"
   ]
  },
  {
   "cell_type": "code",
   "execution_count": 14,
   "metadata": {},
   "outputs": [
    {
     "name": "stdout",
     "output_type": "stream",
     "text": [
      "best score: 0.8660118341568038\n",
      "best parameter: {'max_depth': 10, 'min_samples_leaf': 4, 'min_samples_split': 2, 'n_estimators': 1000}\n"
     ]
    }
   ],
   "source": [
    "# GridSearchCV\n",
    "params = { 'n_estimators' : [500,1000],\n",
    "           'max_depth' : [6,8,10],\n",
    "           'min_samples_leaf' : [4,6,8],\n",
    "           'min_samples_split' : [2, 4, 6]\n",
    "            }\n",
    "\n",
    "\n",
    "rf_model = RandomForestRegressor(random_state = 0, n_jobs = -1)\n",
    "grid_search = GridSearchCV(rf_model, param_grid = params, cv = 3, n_jobs = -1)\n",
    "grid_search.fit(x2_train, y2_train)\n",
    "\n",
    "print('best score:',grid_search.best_score_)\n",
    "print('best parameter:',grid_search.best_params_)"
   ]
  },
  {
   "cell_type": "code",
   "execution_count": 15,
   "metadata": {},
   "outputs": [],
   "source": [
    "rf_model2 = RandomForestRegressor(n_estimators = 1000, \n",
    "                                max_depth = 10,\n",
    "                                min_samples_leaf = 4,\n",
    "                                min_samples_split = 2,\n",
    "                                random_state = 0,\n",
    "                                n_jobs = -1)"
   ]
  },
  {
   "cell_type": "code",
   "execution_count": 16,
   "metadata": {},
   "outputs": [
    {
     "name": "stdout",
     "output_type": "stream",
     "text": [
      "prediction score: 0.8533943538447346\n"
     ]
    }
   ],
   "source": [
    "rf_model2.fit(x2_train, y2_train)\n",
    "score=rf_model2.score(x2_test, y2_test)\n",
    "print('prediction score:',score)"
   ]
  }
 ],
 "metadata": {
  "kernelspec": {
   "display_name": "Python 3",
   "language": "python",
   "name": "python3"
  },
  "language_info": {
   "codemirror_mode": {
    "name": "ipython",
    "version": 3
   },
   "file_extension": ".py",
   "mimetype": "text/x-python",
   "name": "python",
   "nbconvert_exporter": "python",
   "pygments_lexer": "ipython3",
   "version": "3.8.5"
  }
 },
 "nbformat": 4,
 "nbformat_minor": 4
}
