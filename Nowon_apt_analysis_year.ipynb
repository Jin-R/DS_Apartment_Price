{
 "cells": [
  {
   "cell_type": "code",
   "execution_count": 1,
   "metadata": {},
   "outputs": [],
   "source": [
    "import pandas as pd\n",
    "import numpy as np\n",
    "\n",
    "from sklearn.model_selection import train_test_split\n",
    "from sklearn.linear_model import LinearRegression\n",
    "\n",
    "from sklearn.ensemble import RandomForestRegressor\n",
    "from sklearn.model_selection import GridSearchCV\n",
    "from sklearn.metrics import accuracy_score\n",
    "\n",
    "import statsmodels.api as sm\n",
    "from statsmodels.stats.outliers_influence import variance_inflation_factor\n",
    "\n",
    "import seaborn as sns\n",
    "import matplotlib.pyplot as plt\n",
    "from matplotlib import font_manager, rc"
   ]
  },
  {
   "cell_type": "code",
   "execution_count": 2,
   "metadata": {},
   "outputs": [
    {
     "name": "stdout",
     "output_type": "stream",
     "text": [
      "['Malgun Gothic']\n"
     ]
    }
   ],
   "source": [
    "plt.rcParams['font.family'] = 'Malgun Gothic'\n",
    "print(plt.rcParams['font.family'])"
   ]
  },
  {
   "cell_type": "code",
   "execution_count": 3,
   "metadata": {},
   "outputs": [
    {
     "data": {
      "text/html": [
       "<div>\n",
       "<style scoped>\n",
       "    .dataframe tbody tr th:only-of-type {\n",
       "        vertical-align: middle;\n",
       "    }\n",
       "\n",
       "    .dataframe tbody tr th {\n",
       "        vertical-align: top;\n",
       "    }\n",
       "\n",
       "    .dataframe thead th {\n",
       "        text-align: right;\n",
       "    }\n",
       "</style>\n",
       "<table border=\"1\" class=\"dataframe\">\n",
       "  <thead>\n",
       "    <tr style=\"text-align: right;\">\n",
       "      <th></th>\n",
       "      <th>주소</th>\n",
       "      <th>번지</th>\n",
       "      <th>본번</th>\n",
       "      <th>부번</th>\n",
       "      <th>단지명</th>\n",
       "      <th>전월세구분</th>\n",
       "      <th>전용면적(㎡)</th>\n",
       "      <th>계약년월</th>\n",
       "      <th>계약일</th>\n",
       "      <th>전월세(만원)</th>\n",
       "      <th>...</th>\n",
       "      <th>브랜드</th>\n",
       "      <th>주차관제</th>\n",
       "      <th>승강기</th>\n",
       "      <th>복도유형</th>\n",
       "      <th>난방방식</th>\n",
       "      <th>단지명(K-apt)</th>\n",
       "      <th>일반관리</th>\n",
       "      <th>경비관리</th>\n",
       "      <th>청소관리</th>\n",
       "      <th>임대차3법</th>\n",
       "    </tr>\n",
       "  </thead>\n",
       "  <tbody>\n",
       "    <tr>\n",
       "      <th>1</th>\n",
       "      <td>서울특별시 노원구 공릉동</td>\n",
       "      <td>744</td>\n",
       "      <td>744</td>\n",
       "      <td>0</td>\n",
       "      <td>건영장미아파트</td>\n",
       "      <td>전세</td>\n",
       "      <td>84.88</td>\n",
       "      <td>202002</td>\n",
       "      <td>8</td>\n",
       "      <td>35000</td>\n",
       "      <td>...</td>\n",
       "      <td>0</td>\n",
       "      <td>0.0</td>\n",
       "      <td>5.0</td>\n",
       "      <td>0.0</td>\n",
       "      <td>1.0</td>\n",
       "      <td>공릉건영장미</td>\n",
       "      <td>3.0</td>\n",
       "      <td>2.0</td>\n",
       "      <td>2.0</td>\n",
       "      <td>0</td>\n",
       "    </tr>\n",
       "    <tr>\n",
       "      <th>2</th>\n",
       "      <td>서울특별시 노원구 공릉동</td>\n",
       "      <td>744</td>\n",
       "      <td>744</td>\n",
       "      <td>0</td>\n",
       "      <td>건영장미아파트</td>\n",
       "      <td>전세</td>\n",
       "      <td>84.88</td>\n",
       "      <td>202007</td>\n",
       "      <td>1</td>\n",
       "      <td>40000</td>\n",
       "      <td>...</td>\n",
       "      <td>0</td>\n",
       "      <td>0.0</td>\n",
       "      <td>5.0</td>\n",
       "      <td>0.0</td>\n",
       "      <td>1.0</td>\n",
       "      <td>공릉건영장미</td>\n",
       "      <td>3.0</td>\n",
       "      <td>2.0</td>\n",
       "      <td>2.0</td>\n",
       "      <td>0</td>\n",
       "    </tr>\n",
       "    <tr>\n",
       "      <th>3</th>\n",
       "      <td>서울특별시 노원구 공릉동</td>\n",
       "      <td>744</td>\n",
       "      <td>744</td>\n",
       "      <td>0</td>\n",
       "      <td>건영장미아파트</td>\n",
       "      <td>전세</td>\n",
       "      <td>59.87</td>\n",
       "      <td>202007</td>\n",
       "      <td>11</td>\n",
       "      <td>27000</td>\n",
       "      <td>...</td>\n",
       "      <td>0</td>\n",
       "      <td>0.0</td>\n",
       "      <td>5.0</td>\n",
       "      <td>0.0</td>\n",
       "      <td>1.0</td>\n",
       "      <td>공릉건영장미</td>\n",
       "      <td>3.0</td>\n",
       "      <td>2.0</td>\n",
       "      <td>2.0</td>\n",
       "      <td>0</td>\n",
       "    </tr>\n",
       "    <tr>\n",
       "      <th>4</th>\n",
       "      <td>서울특별시 노원구 공릉동</td>\n",
       "      <td>744</td>\n",
       "      <td>744</td>\n",
       "      <td>0</td>\n",
       "      <td>건영장미아파트</td>\n",
       "      <td>전세</td>\n",
       "      <td>59.87</td>\n",
       "      <td>202007</td>\n",
       "      <td>13</td>\n",
       "      <td>28000</td>\n",
       "      <td>...</td>\n",
       "      <td>0</td>\n",
       "      <td>0.0</td>\n",
       "      <td>5.0</td>\n",
       "      <td>0.0</td>\n",
       "      <td>1.0</td>\n",
       "      <td>공릉건영장미</td>\n",
       "      <td>3.0</td>\n",
       "      <td>2.0</td>\n",
       "      <td>2.0</td>\n",
       "      <td>0</td>\n",
       "    </tr>\n",
       "    <tr>\n",
       "      <th>5</th>\n",
       "      <td>서울특별시 노원구 공릉동</td>\n",
       "      <td>744</td>\n",
       "      <td>744</td>\n",
       "      <td>0</td>\n",
       "      <td>건영장미아파트</td>\n",
       "      <td>전세</td>\n",
       "      <td>84.88</td>\n",
       "      <td>202008</td>\n",
       "      <td>17</td>\n",
       "      <td>40000</td>\n",
       "      <td>...</td>\n",
       "      <td>0</td>\n",
       "      <td>0.0</td>\n",
       "      <td>5.0</td>\n",
       "      <td>0.0</td>\n",
       "      <td>1.0</td>\n",
       "      <td>공릉건영장미</td>\n",
       "      <td>3.0</td>\n",
       "      <td>2.0</td>\n",
       "      <td>2.0</td>\n",
       "      <td>1</td>\n",
       "    </tr>\n",
       "  </tbody>\n",
       "</table>\n",
       "<p>5 rows × 33 columns</p>\n",
       "</div>"
      ],
      "text/plain": [
       "              주소   번지   본번  부번      단지명 전월세구분  전용면적(㎡)    계약년월  계약일  전월세(만원)  \\\n",
       "1  서울특별시 노원구 공릉동  744  744   0  건영장미아파트    전세    84.88  202002    8    35000   \n",
       "2  서울특별시 노원구 공릉동  744  744   0  건영장미아파트    전세    84.88  202007    1    40000   \n",
       "3  서울특별시 노원구 공릉동  744  744   0  건영장미아파트    전세    59.87  202007   11    27000   \n",
       "4  서울특별시 노원구 공릉동  744  744   0  건영장미아파트    전세    59.87  202007   13    28000   \n",
       "5  서울특별시 노원구 공릉동  744  744   0  건영장미아파트    전세    84.88  202008   17    40000   \n",
       "\n",
       "   ...  브랜드  주차관제  승강기 복도유형  난방방식  단지명(K-apt)  일반관리  경비관리  청소관리  임대차3법  \n",
       "1  ...    0   0.0  5.0  0.0   1.0      공릉건영장미   3.0   2.0   2.0      0  \n",
       "2  ...    0   0.0  5.0  0.0   1.0      공릉건영장미   3.0   2.0   2.0      0  \n",
       "3  ...    0   0.0  5.0  0.0   1.0      공릉건영장미   3.0   2.0   2.0      0  \n",
       "4  ...    0   0.0  5.0  0.0   1.0      공릉건영장미   3.0   2.0   2.0      0  \n",
       "5  ...    0   0.0  5.0  0.0   1.0      공릉건영장미   3.0   2.0   2.0      1  \n",
       "\n",
       "[5 rows x 33 columns]"
      ]
     },
     "execution_count": 3,
     "metadata": {},
     "output_type": "execute_result"
    }
   ],
   "source": [
    "df_year=pd.read_csv('../data/year_nowon.csv')\n",
    "df_year=df_year.dropna()\n",
    "df_year.head()"
   ]
  },
  {
   "cell_type": "code",
   "execution_count": 4,
   "metadata": {},
   "outputs": [
    {
     "name": "stdout",
     "output_type": "stream",
     "text": [
      "Index(['주소', '번지', '본번', '부번', '단지명', '전월세구분', '전용면적(㎡)', '계약년월', '계약일',\n",
      "       '전월세(만원)', '층', '세대수', '건축년도', '도로명', '위도', '경도', '초등학교', '병원', '공원',\n",
      "       '대형마트', '백화점', 'cctv', '주차대수', '브랜드', '주차관제', '승강기', '복도유형', '난방방식',\n",
      "       '단지명(K-apt)', '일반관리', '경비관리', '청소관리', '임대차3법'],\n",
      "      dtype='object')\n"
     ]
    }
   ],
   "source": [
    "print(df_year.columns)"
   ]
  },
  {
   "cell_type": "code",
   "execution_count": 5,
   "metadata": {},
   "outputs": [
    {
     "name": "stdout",
     "output_type": "stream",
     "text": [
      "전용면적(㎡) : 0.8378513631961447\n",
      "층 : 0.10243232979377118\n",
      "세대수 : -0.36978832901384456\n",
      "건축년도 : 0.4039084373650304\n",
      "초등학교 : 0.09788201802771304\n",
      "병원 : -0.03779914817905423\n",
      "공원 : 0.16327184924446392\n",
      "대형마트 : -0.10179814548373646\n",
      "백화점 : 0.16225158426995318\n",
      "cctv : 0.13433571477131823\n",
      "주차대수 : -0.0010512628319403348\n",
      "브랜드 : 0.22591138224396895\n",
      "주차관제 : 0.17114972062584372\n",
      "승강기 : 0.012109954519216856\n",
      "난방방식 : 0.32890237549120366\n",
      "복도유형 : -0.4399299238601535\n",
      "일반관리 : -0.33036875527244086\n",
      "경비관리 : -0.3416415965263703\n",
      "청소관리 : -0.23174050454234318\n",
      "임대차3법 : 0.13739972047821178\n"
     ]
    }
   ],
   "source": [
    "# correlation\n",
    "var=['전용면적(㎡)','층','세대수','건축년도','초등학교','병원','공원','대형마트','백화점','cctv','주차대수','브랜드','주차관제','승강기','난방방식','복도유형','일반관리','경비관리','청소관리','임대차3법']\n",
    "\n",
    "for i in range(len(var)):\n",
    "    corr=np.corrcoef(df_year[var[i]],df_year['전월세(만원)'])[0,1]\n",
    "    print(var[i],':',corr)"
   ]
  },
  {
   "cell_type": "code",
   "execution_count": 6,
   "metadata": {},
   "outputs": [],
   "source": [
    "lm_df=df_year\n",
    "lm_df['대형마트'] = np.log(lm_df['대형마트'])\n",
    "lm_df['주차대수'] = np.log(lm_df['주차대수'])\n",
    "lm_df['전월세(만원)'] = np.log(lm_df['전월세(만원)'])"
   ]
  },
  {
   "cell_type": "code",
   "execution_count": 7,
   "metadata": {},
   "outputs": [],
   "source": [
    "att=['전용면적(㎡)','건축년도','세대수','층','초등학교','병원','대형마트','주차대수','브랜드','주차관제','승강기','복도유형','경비관리','임대차3법']\n",
    "x1=lm_df[att]\n",
    "y1=lm_df['전월세(만원)']"
   ]
  },
  {
   "cell_type": "code",
   "execution_count": 8,
   "metadata": {},
   "outputs": [
    {
     "data": {
      "text/html": [
       "<table class=\"simpletable\">\n",
       "<caption>OLS Regression Results</caption>\n",
       "<tr>\n",
       "  <th>Dep. Variable:</th>         <td>전월세(만원)</td>     <th>  R-squared:         </th> <td>   0.747</td>\n",
       "</tr>\n",
       "<tr>\n",
       "  <th>Model:</th>                   <td>OLS</td>       <th>  Adj. R-squared:    </th> <td>   0.746</td>\n",
       "</tr>\n",
       "<tr>\n",
       "  <th>Method:</th>             <td>Least Squares</td>  <th>  F-statistic:       </th> <td>   1850.</td>\n",
       "</tr>\n",
       "<tr>\n",
       "  <th>Date:</th>             <td>Wed, 29 Sep 2021</td> <th>  Prob (F-statistic):</th>  <td>  0.00</td> \n",
       "</tr>\n",
       "<tr>\n",
       "  <th>Time:</th>                 <td>10:48:46</td>     <th>  Log-Likelihood:    </th> <td>  190.76</td>\n",
       "</tr>\n",
       "<tr>\n",
       "  <th>No. Observations:</th>      <td>  8811</td>      <th>  AIC:               </th> <td>  -351.5</td>\n",
       "</tr>\n",
       "<tr>\n",
       "  <th>Df Residuals:</th>          <td>  8796</td>      <th>  BIC:               </th> <td>  -245.3</td>\n",
       "</tr>\n",
       "<tr>\n",
       "  <th>Df Model:</th>              <td>    14</td>      <th>                     </th>     <td> </td>   \n",
       "</tr>\n",
       "<tr>\n",
       "  <th>Covariance Type:</th>      <td>nonrobust</td>    <th>                     </th>     <td> </td>   \n",
       "</tr>\n",
       "</table>\n",
       "<table class=\"simpletable\">\n",
       "<tr>\n",
       "     <td></td>        <th>coef</th>     <th>std err</th>      <th>t</th>      <th>P>|t|</th>  <th>[0.025</th>    <th>0.975]</th>  \n",
       "</tr>\n",
       "<tr>\n",
       "  <th>const</th>   <td>  -14.7662</td> <td>    1.225</td> <td>  -12.053</td> <td> 0.000</td> <td>  -17.168</td> <td>  -12.365</td>\n",
       "</tr>\n",
       "<tr>\n",
       "  <th>전용면적(㎡)</th> <td>    0.0153</td> <td>    0.000</td> <td>  101.644</td> <td> 0.000</td> <td>    0.015</td> <td>    0.016</td>\n",
       "</tr>\n",
       "<tr>\n",
       "  <th>건축년도</th>    <td>    0.0118</td> <td>    0.001</td> <td>   19.120</td> <td> 0.000</td> <td>    0.011</td> <td>    0.013</td>\n",
       "</tr>\n",
       "<tr>\n",
       "  <th>세대수</th>     <td>   -0.0001</td> <td> 8.01e-06</td> <td>  -14.515</td> <td> 0.000</td> <td>   -0.000</td> <td>   -0.000</td>\n",
       "</tr>\n",
       "<tr>\n",
       "  <th>층</th>       <td>    0.0033</td> <td>    0.001</td> <td>    6.259</td> <td> 0.000</td> <td>    0.002</td> <td>    0.004</td>\n",
       "</tr>\n",
       "<tr>\n",
       "  <th>초등학교</th>    <td>    0.0642</td> <td>    0.020</td> <td>    3.146</td> <td> 0.002</td> <td>    0.024</td> <td>    0.104</td>\n",
       "</tr>\n",
       "<tr>\n",
       "  <th>병원</th>      <td>   -0.0383</td> <td>    0.004</td> <td>  -10.042</td> <td> 0.000</td> <td>   -0.046</td> <td>   -0.031</td>\n",
       "</tr>\n",
       "<tr>\n",
       "  <th>대형마트</th>    <td>   -0.0811</td> <td>    0.006</td> <td>  -13.749</td> <td> 0.000</td> <td>   -0.093</td> <td>   -0.070</td>\n",
       "</tr>\n",
       "<tr>\n",
       "  <th>주차대수</th>    <td>    0.0578</td> <td>    0.009</td> <td>    6.767</td> <td> 0.000</td> <td>    0.041</td> <td>    0.075</td>\n",
       "</tr>\n",
       "<tr>\n",
       "  <th>브랜드</th>     <td>    0.0725</td> <td>    0.019</td> <td>    3.834</td> <td> 0.000</td> <td>    0.035</td> <td>    0.110</td>\n",
       "</tr>\n",
       "<tr>\n",
       "  <th>주차관제</th>    <td>   -0.1650</td> <td>    0.010</td> <td>  -15.934</td> <td> 0.000</td> <td>   -0.185</td> <td>   -0.145</td>\n",
       "</tr>\n",
       "<tr>\n",
       "  <th>승강기</th>     <td>    0.0040</td> <td>    0.000</td> <td>    9.536</td> <td> 0.000</td> <td>    0.003</td> <td>    0.005</td>\n",
       "</tr>\n",
       "<tr>\n",
       "  <th>복도유형</th>    <td>   -0.0830</td> <td>    0.006</td> <td>  -12.929</td> <td> 0.000</td> <td>   -0.096</td> <td>   -0.070</td>\n",
       "</tr>\n",
       "<tr>\n",
       "  <th>경비관리</th>    <td>    0.0026</td> <td>    0.000</td> <td>    6.143</td> <td> 0.000</td> <td>    0.002</td> <td>    0.003</td>\n",
       "</tr>\n",
       "<tr>\n",
       "  <th>임대차3법</th>   <td>    0.1281</td> <td>    0.005</td> <td>   24.419</td> <td> 0.000</td> <td>    0.118</td> <td>    0.138</td>\n",
       "</tr>\n",
       "</table>\n",
       "<table class=\"simpletable\">\n",
       "<tr>\n",
       "  <th>Omnibus:</th>       <td>5660.075</td> <th>  Durbin-Watson:     </th>  <td>   1.407</td> \n",
       "</tr>\n",
       "<tr>\n",
       "  <th>Prob(Omnibus):</th>  <td> 0.000</td>  <th>  Jarque-Bera (JB):  </th> <td>163075.567</td>\n",
       "</tr>\n",
       "<tr>\n",
       "  <th>Skew:</th>           <td>-2.625</td>  <th>  Prob(JB):          </th>  <td>    0.00</td> \n",
       "</tr>\n",
       "<tr>\n",
       "  <th>Kurtosis:</th>       <td>23.411</td>  <th>  Cond. No.          </th>  <td>1.26e+06</td> \n",
       "</tr>\n",
       "</table><br/><br/>Notes:<br/>[1] Standard Errors assume that the covariance matrix of the errors is correctly specified.<br/>[2] The condition number is large, 1.26e+06. This might indicate that there are<br/>strong multicollinearity or other numerical problems."
      ],
      "text/plain": [
       "<class 'statsmodels.iolib.summary.Summary'>\n",
       "\"\"\"\n",
       "                            OLS Regression Results                            \n",
       "==============================================================================\n",
       "Dep. Variable:                전월세(만원)   R-squared:                       0.747\n",
       "Model:                            OLS   Adj. R-squared:                  0.746\n",
       "Method:                 Least Squares   F-statistic:                     1850.\n",
       "Date:                Wed, 29 Sep 2021   Prob (F-statistic):               0.00\n",
       "Time:                        10:48:46   Log-Likelihood:                 190.76\n",
       "No. Observations:                8811   AIC:                            -351.5\n",
       "Df Residuals:                    8796   BIC:                            -245.3\n",
       "Df Model:                          14                                         \n",
       "Covariance Type:            nonrobust                                         \n",
       "==============================================================================\n",
       "                 coef    std err          t      P>|t|      [0.025      0.975]\n",
       "------------------------------------------------------------------------------\n",
       "const        -14.7662      1.225    -12.053      0.000     -17.168     -12.365\n",
       "전용면적(㎡)        0.0153      0.000    101.644      0.000       0.015       0.016\n",
       "건축년도           0.0118      0.001     19.120      0.000       0.011       0.013\n",
       "세대수           -0.0001   8.01e-06    -14.515      0.000      -0.000      -0.000\n",
       "층              0.0033      0.001      6.259      0.000       0.002       0.004\n",
       "초등학교           0.0642      0.020      3.146      0.002       0.024       0.104\n",
       "병원            -0.0383      0.004    -10.042      0.000      -0.046      -0.031\n",
       "대형마트          -0.0811      0.006    -13.749      0.000      -0.093      -0.070\n",
       "주차대수           0.0578      0.009      6.767      0.000       0.041       0.075\n",
       "브랜드            0.0725      0.019      3.834      0.000       0.035       0.110\n",
       "주차관제          -0.1650      0.010    -15.934      0.000      -0.185      -0.145\n",
       "승강기            0.0040      0.000      9.536      0.000       0.003       0.005\n",
       "복도유형          -0.0830      0.006    -12.929      0.000      -0.096      -0.070\n",
       "경비관리           0.0026      0.000      6.143      0.000       0.002       0.003\n",
       "임대차3법          0.1281      0.005     24.419      0.000       0.118       0.138\n",
       "==============================================================================\n",
       "Omnibus:                     5660.075   Durbin-Watson:                   1.407\n",
       "Prob(Omnibus):                  0.000   Jarque-Bera (JB):           163075.567\n",
       "Skew:                          -2.625   Prob(JB):                         0.00\n",
       "Kurtosis:                      23.411   Cond. No.                     1.26e+06\n",
       "==============================================================================\n",
       "\n",
       "Notes:\n",
       "[1] Standard Errors assume that the covariance matrix of the errors is correctly specified.\n",
       "[2] The condition number is large, 1.26e+06. This might indicate that there are\n",
       "strong multicollinearity or other numerical problems.\n",
       "\"\"\""
      ]
     },
     "execution_count": 8,
     "metadata": {},
     "output_type": "execute_result"
    }
   ],
   "source": [
    "# OLS Regression\n",
    "x2 = sm.add_constant(x1, has_constant = \"add\")\n",
    "multi_model=sm.OLS(y1,x2)\n",
    "fitted=multi_model.fit()\n",
    "fitted.summary()"
   ]
  },
  {
   "cell_type": "code",
   "execution_count": 9,
   "metadata": {},
   "outputs": [
    {
     "data": {
      "text/html": [
       "<div>\n",
       "<style scoped>\n",
       "    .dataframe tbody tr th:only-of-type {\n",
       "        vertical-align: middle;\n",
       "    }\n",
       "\n",
       "    .dataframe tbody tr th {\n",
       "        vertical-align: top;\n",
       "    }\n",
       "\n",
       "    .dataframe thead th {\n",
       "        text-align: right;\n",
       "    }\n",
       "</style>\n",
       "<table border=\"1\" class=\"dataframe\">\n",
       "  <thead>\n",
       "    <tr style=\"text-align: right;\">\n",
       "      <th></th>\n",
       "      <th>column</th>\n",
       "      <th>VIF</th>\n",
       "    </tr>\n",
       "  </thead>\n",
       "  <tbody>\n",
       "    <tr>\n",
       "      <th>0</th>\n",
       "      <td>const</td>\n",
       "      <td>235453.093772</td>\n",
       "    </tr>\n",
       "    <tr>\n",
       "      <th>1</th>\n",
       "      <td>전용면적(㎡)</td>\n",
       "      <td>1.589220</td>\n",
       "    </tr>\n",
       "    <tr>\n",
       "      <th>2</th>\n",
       "      <td>건축년도</td>\n",
       "      <td>2.732063</td>\n",
       "    </tr>\n",
       "    <tr>\n",
       "      <th>3</th>\n",
       "      <td>세대수</td>\n",
       "      <td>9.706348</td>\n",
       "    </tr>\n",
       "    <tr>\n",
       "      <th>4</th>\n",
       "      <td>층</td>\n",
       "      <td>1.032891</td>\n",
       "    </tr>\n",
       "    <tr>\n",
       "      <th>5</th>\n",
       "      <td>초등학교</td>\n",
       "      <td>1.223549</td>\n",
       "    </tr>\n",
       "    <tr>\n",
       "      <th>6</th>\n",
       "      <td>병원</td>\n",
       "      <td>1.692356</td>\n",
       "    </tr>\n",
       "    <tr>\n",
       "      <th>7</th>\n",
       "      <td>대형마트</td>\n",
       "      <td>1.759048</td>\n",
       "    </tr>\n",
       "    <tr>\n",
       "      <th>8</th>\n",
       "      <td>주차대수</td>\n",
       "      <td>5.830536</td>\n",
       "    </tr>\n",
       "    <tr>\n",
       "      <th>9</th>\n",
       "      <td>브랜드</td>\n",
       "      <td>1.324527</td>\n",
       "    </tr>\n",
       "    <tr>\n",
       "      <th>10</th>\n",
       "      <td>주차관제</td>\n",
       "      <td>1.266857</td>\n",
       "    </tr>\n",
       "    <tr>\n",
       "      <th>11</th>\n",
       "      <td>승강기</td>\n",
       "      <td>4.603335</td>\n",
       "    </tr>\n",
       "    <tr>\n",
       "      <th>12</th>\n",
       "      <td>복도유형</td>\n",
       "      <td>1.575859</td>\n",
       "    </tr>\n",
       "    <tr>\n",
       "      <th>13</th>\n",
       "      <td>경비관리</td>\n",
       "      <td>7.751561</td>\n",
       "    </tr>\n",
       "    <tr>\n",
       "      <th>14</th>\n",
       "      <td>임대차3법</td>\n",
       "      <td>1.005726</td>\n",
       "    </tr>\n",
       "  </tbody>\n",
       "</table>\n",
       "</div>"
      ],
      "text/plain": [
       "     column            VIF\n",
       "0     const  235453.093772\n",
       "1   전용면적(㎡)       1.589220\n",
       "2      건축년도       2.732063\n",
       "3       세대수       9.706348\n",
       "4         층       1.032891\n",
       "5      초등학교       1.223549\n",
       "6        병원       1.692356\n",
       "7      대형마트       1.759048\n",
       "8      주차대수       5.830536\n",
       "9       브랜드       1.324527\n",
       "10     주차관제       1.266857\n",
       "11      승강기       4.603335\n",
       "12     복도유형       1.575859\n",
       "13     경비관리       7.751561\n",
       "14    임대차3법       1.005726"
      ]
     },
     "execution_count": 9,
     "metadata": {},
     "output_type": "execute_result"
    }
   ],
   "source": [
    "# VIF\n",
    "pd.DataFrame({'column': column, 'VIF': variance_inflation_factor(multi_model.exog, i)} \n",
    "             for i, column in enumerate(multi_model.exog_names)\n",
    "             if column != 'Intercept')"
   ]
  },
  {
   "cell_type": "code",
   "execution_count": 10,
   "metadata": {},
   "outputs": [
    {
     "name": "stdout",
     "output_type": "stream",
     "text": [
      "Training Features Shape: (6167, 14)\n",
      "Training Labels Shape: (6167,)\n",
      "Testing Features Shape: (2644, 14)\n",
      "Testing Labels Shape: (2644,)\n"
     ]
    }
   ],
   "source": [
    "# Linear Regression\n",
    "x1_train, x1_test, y1_train, y1_test = train_test_split(x1, y1, train_size=0.7, test_size=0.3)\n",
    "\n",
    "y1_train=np.array(y1_train).ravel()\n",
    "y1_test=np.array(y1_test).ravel()\n",
    "\n",
    "print('Training Features Shape:', x1_train.shape)\n",
    "print('Training Labels Shape:', y1_train.shape)\n",
    "print('Testing Features Shape:', x1_test.shape)\n",
    "print('Testing Labels Shape:', y1_test.shape)"
   ]
  },
  {
   "cell_type": "code",
   "execution_count": 11,
   "metadata": {},
   "outputs": [
    {
     "data": {
      "text/plain": [
       "<function matplotlib.pyplot.show(close=None, block=None)>"
      ]
     },
     "execution_count": 11,
     "metadata": {},
     "output_type": "execute_result"
    },
    {
     "data": {
      "image/png": "[encoded data removed]",
      "text/plain": [
       "<Figure size 432x288 with 1 Axes>"
      ]
     },
     "metadata": {
      "needs_background": "light"
     },
     "output_type": "display_data"
    }
   ],
   "source": [
    "mlr=LinearRegression()\n",
    "mlr.fit(x1_train,y1_train)\n",
    "y1_predict=mlr.predict(x1_test)\n",
    "plt.scatter(y1_test,y1_predict,alpha=0.4)\n",
    "plt.xlabel('테스트 데이터')\n",
    "plt.ylabel('예측값')\n",
    "plt.show"
   ]
  },
  {
   "cell_type": "code",
   "execution_count": 12,
   "metadata": {},
   "outputs": [
    {
     "name": "stdout",
     "output_type": "stream",
     "text": [
      "0.7478933233607485\n"
     ]
    }
   ],
   "source": [
    "print(mlr.score(x1_train,y1_train))"
   ]
  },
  {
   "cell_type": "code",
   "execution_count": 13,
   "metadata": {},
   "outputs": [],
   "source": [
    "# Random Forest Regressor\n",
    "att=['전용면적(㎡)','건축년도','세대수','층','초등학교','병원','대형마트','주차대수','브랜드','주차관제','승강기','복도유형','경비관리','임대차3법']\n",
    "\n",
    "rf_x1=df_year[att]\n",
    "rf_y1=df_year[['전월세(만원)']]\n",
    "x2_train, x2_test, y2_train, y2_test = train_test_split(rf_x1, rf_y1, train_size=0.8, test_size=0.2)\n",
    "\n",
    "y2_train=np.array(y2_train).ravel()\n",
    "y2_test=np.array(y2_test).ravel()"
   ]
  },
  {
   "cell_type": "code",
   "execution_count": 18,
   "metadata": {},
   "outputs": [
    {
     "name": "stdout",
     "output_type": "stream",
     "text": [
      "best score: 0.8717757733403655\n",
      "best parameter: {'max_depth': 10, 'min_samples_leaf': 4, 'min_samples_split': 2, 'n_estimators': 1000}\n"
     ]
    }
   ],
   "source": [
    "# GridSearchCV\n",
    "params = { 'n_estimators' : [500,1000],\n",
    "           'max_depth' : [6,8,10],\n",
    "           'min_samples_leaf' : [4,6,8],\n",
    "           'min_samples_split' : [2, 4, 6]\n",
    "            }\n",
    "\n",
    "\n",
    "rf_model = RandomForestRegressor(random_state = 0, n_jobs = -1)\n",
    "grid_search = GridSearchCV(rf_model, param_grid = params, cv = 3, n_jobs = -1)\n",
    "grid_search.fit(x2_train, y2_train)\n",
    "\n",
    "print('best score:',grid_search.best_score_)\n",
    "print('best parameter:',grid_search.best_params_)"
   ]
  },
  {
   "cell_type": "code",
   "execution_count": 19,
   "metadata": {},
   "outputs": [],
   "source": [
    "rf_model2 = RandomForestRegressor(n_estimators = 1000, \n",
    "                                max_depth = 10,\n",
    "                                min_samples_leaf = 4,\n",
    "                                min_samples_split = 2,\n",
    "                                random_state = 0,\n",
    "                                n_jobs = -1)"
   ]
  },
  {
   "cell_type": "code",
   "execution_count": 20,
   "metadata": {},
   "outputs": [
    {
     "name": "stdout",
     "output_type": "stream",
     "text": [
      "prediction score: 0.8203908763936779\n"
     ]
    }
   ],
   "source": [
    "rf_model2.fit(x2_train, y2_train)\n",
    "score=rf_model2.score(x2_test, y2_test)\n",
    "print('prediction score:',score)"
   ]
  }
 ],
 "metadata": {
  "kernelspec": {
   "display_name": "Python 3",
   "language": "python",
   "name": "python3"
  },
  "language_info": {
   "codemirror_mode": {
    "name": "ipython",
    "version": 3
   },
   "file_extension": ".py",
   "mimetype": "text/x-python",
   "name": "python",
   "nbconvert_exporter": "python",
   "pygments_lexer": "ipython3",
   "version": "3.8.5"
  }
 },
 "nbformat": 4,
 "nbformat_minor": 4
}
