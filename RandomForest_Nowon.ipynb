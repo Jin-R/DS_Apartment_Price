{
 "cells": [
  {
   "cell_type": "code",
   "execution_count": 1,
   "metadata": {},
   "outputs": [],
   "source": [
    "import pandas as pd\n",
    "import numpy as np\n",
    "\n",
    "import matplotlib.pyplot as plt\n",
    "import matplotlib.ticker as ticker\n",
    "import seaborn as sns\n",
    "\n",
    "from sklearn.model_selection import train_test_split\n",
    "from sklearn.linear_model import LinearRegression\n",
    "from sklearn.ensemble import RandomForestRegressor\n",
    "from sklearn.model_selection import GridSearchCV\n",
    "\n",
    "from sklearn.metrics import mean_squared_error"
   ]
  },
  {
   "cell_type": "code",
   "execution_count": 2,
   "metadata": {},
   "outputs": [],
   "source": [
    "from sklearn.ensemble import RandomForestClassifier\n",
    "from sklearn import metrics"
   ]
  },
  {
   "cell_type": "code",
   "execution_count": 3,
   "metadata": {},
   "outputs": [
    {
     "name": "stdout",
     "output_type": "stream",
     "text": [
      "['Malgun Gothic']\n"
     ]
    }
   ],
   "source": [
    "plt.rcParams['font.family'] = 'Malgun Gothic'\n",
    "print(plt.rcParams['font.family'])"
   ]
  },
  {
   "cell_type": "code",
   "execution_count": 4,
   "metadata": {},
   "outputs": [
    {
     "data": {
      "text/html": [
       "<div>\n",
       "<style scoped>\n",
       "    .dataframe tbody tr th:only-of-type {\n",
       "        vertical-align: middle;\n",
       "    }\n",
       "\n",
       "    .dataframe tbody tr th {\n",
       "        vertical-align: top;\n",
       "    }\n",
       "\n",
       "    .dataframe thead th {\n",
       "        text-align: right;\n",
       "    }\n",
       "</style>\n",
       "<table border=\"1\" class=\"dataframe\">\n",
       "  <thead>\n",
       "    <tr style=\"text-align: right;\">\n",
       "      <th></th>\n",
       "      <th>시군구</th>\n",
       "      <th>번지</th>\n",
       "      <th>본번</th>\n",
       "      <th>부번</th>\n",
       "      <th>단지명</th>\n",
       "      <th>전월세구분</th>\n",
       "      <th>전용면적(㎡)</th>\n",
       "      <th>계약년월</th>\n",
       "      <th>계약일</th>\n",
       "      <th>전월세(만원)</th>\n",
       "      <th>...</th>\n",
       "      <th>공원</th>\n",
       "      <th>대형마트</th>\n",
       "      <th>백화점</th>\n",
       "      <th>cctv</th>\n",
       "      <th>주차대수</th>\n",
       "      <th>브랜드</th>\n",
       "      <th>주차관제</th>\n",
       "      <th>승강기</th>\n",
       "      <th>복도유형</th>\n",
       "      <th>난방방식</th>\n",
       "    </tr>\n",
       "  </thead>\n",
       "  <tbody>\n",
       "    <tr>\n",
       "      <th>0</th>\n",
       "      <td>서울특별시 노원구 공릉동</td>\n",
       "      <td>683-30</td>\n",
       "      <td>683</td>\n",
       "      <td>30</td>\n",
       "      <td>(683-30)</td>\n",
       "      <td>월세</td>\n",
       "      <td>20.00</td>\n",
       "      <td>202001</td>\n",
       "      <td>6</td>\n",
       "      <td>20500</td>\n",
       "      <td>...</td>\n",
       "      <td>0.821341</td>\n",
       "      <td>1.49</td>\n",
       "      <td>4.33</td>\n",
       "      <td>37.0</td>\n",
       "      <td>219.0</td>\n",
       "      <td>0</td>\n",
       "      <td>NaN</td>\n",
       "      <td>NaN</td>\n",
       "      <td>NaN</td>\n",
       "      <td>NaN</td>\n",
       "    </tr>\n",
       "    <tr>\n",
       "      <th>1</th>\n",
       "      <td>서울특별시 노원구 공릉동</td>\n",
       "      <td>683-30</td>\n",
       "      <td>683</td>\n",
       "      <td>30</td>\n",
       "      <td>(683-30)</td>\n",
       "      <td>월세</td>\n",
       "      <td>20.00</td>\n",
       "      <td>202007</td>\n",
       "      <td>9</td>\n",
       "      <td>20500</td>\n",
       "      <td>...</td>\n",
       "      <td>0.821341</td>\n",
       "      <td>1.49</td>\n",
       "      <td>4.33</td>\n",
       "      <td>37.0</td>\n",
       "      <td>219.0</td>\n",
       "      <td>0</td>\n",
       "      <td>NaN</td>\n",
       "      <td>NaN</td>\n",
       "      <td>NaN</td>\n",
       "      <td>NaN</td>\n",
       "    </tr>\n",
       "    <tr>\n",
       "      <th>2</th>\n",
       "      <td>서울특별시 노원구 공릉동</td>\n",
       "      <td>683-30</td>\n",
       "      <td>683</td>\n",
       "      <td>30</td>\n",
       "      <td>(683-30)</td>\n",
       "      <td>월세</td>\n",
       "      <td>20.00</td>\n",
       "      <td>202008</td>\n",
       "      <td>6</td>\n",
       "      <td>20500</td>\n",
       "      <td>...</td>\n",
       "      <td>0.821341</td>\n",
       "      <td>1.49</td>\n",
       "      <td>4.33</td>\n",
       "      <td>37.0</td>\n",
       "      <td>219.0</td>\n",
       "      <td>0</td>\n",
       "      <td>NaN</td>\n",
       "      <td>NaN</td>\n",
       "      <td>NaN</td>\n",
       "      <td>NaN</td>\n",
       "    </tr>\n",
       "    <tr>\n",
       "      <th>3</th>\n",
       "      <td>서울특별시 노원구 공릉동</td>\n",
       "      <td>683-30</td>\n",
       "      <td>683</td>\n",
       "      <td>30</td>\n",
       "      <td>(683-30)</td>\n",
       "      <td>월세</td>\n",
       "      <td>20.00</td>\n",
       "      <td>202008</td>\n",
       "      <td>21</td>\n",
       "      <td>16000</td>\n",
       "      <td>...</td>\n",
       "      <td>0.821341</td>\n",
       "      <td>1.49</td>\n",
       "      <td>4.33</td>\n",
       "      <td>37.0</td>\n",
       "      <td>219.0</td>\n",
       "      <td>0</td>\n",
       "      <td>NaN</td>\n",
       "      <td>NaN</td>\n",
       "      <td>NaN</td>\n",
       "      <td>NaN</td>\n",
       "    </tr>\n",
       "    <tr>\n",
       "      <th>4</th>\n",
       "      <td>서울특별시 노원구 공릉동</td>\n",
       "      <td>683-30</td>\n",
       "      <td>683</td>\n",
       "      <td>30</td>\n",
       "      <td>(683-30)</td>\n",
       "      <td>월세</td>\n",
       "      <td>20.00</td>\n",
       "      <td>202009</td>\n",
       "      <td>7</td>\n",
       "      <td>20000</td>\n",
       "      <td>...</td>\n",
       "      <td>0.821341</td>\n",
       "      <td>1.49</td>\n",
       "      <td>4.33</td>\n",
       "      <td>37.0</td>\n",
       "      <td>219.0</td>\n",
       "      <td>0</td>\n",
       "      <td>NaN</td>\n",
       "      <td>NaN</td>\n",
       "      <td>NaN</td>\n",
       "      <td>NaN</td>\n",
       "    </tr>\n",
       "    <tr>\n",
       "      <th>...</th>\n",
       "      <td>...</td>\n",
       "      <td>...</td>\n",
       "      <td>...</td>\n",
       "      <td>...</td>\n",
       "      <td>...</td>\n",
       "      <td>...</td>\n",
       "      <td>...</td>\n",
       "      <td>...</td>\n",
       "      <td>...</td>\n",
       "      <td>...</td>\n",
       "      <td>...</td>\n",
       "      <td>...</td>\n",
       "      <td>...</td>\n",
       "      <td>...</td>\n",
       "      <td>...</td>\n",
       "      <td>...</td>\n",
       "      <td>...</td>\n",
       "      <td>...</td>\n",
       "      <td>...</td>\n",
       "      <td>...</td>\n",
       "      <td>...</td>\n",
       "    </tr>\n",
       "    <tr>\n",
       "      <th>3997</th>\n",
       "      <td>서울특별시 노원구 하계동</td>\n",
       "      <td>270</td>\n",
       "      <td>270</td>\n",
       "      <td>0</td>\n",
       "      <td>현대</td>\n",
       "      <td>월세</td>\n",
       "      <td>72.20</td>\n",
       "      <td>202009</td>\n",
       "      <td>10</td>\n",
       "      <td>31000</td>\n",
       "      <td>...</td>\n",
       "      <td>0.267815</td>\n",
       "      <td>0.46</td>\n",
       "      <td>2.11</td>\n",
       "      <td>167.0</td>\n",
       "      <td>1386.0</td>\n",
       "      <td>0</td>\n",
       "      <td>0.0</td>\n",
       "      <td>44.0</td>\n",
       "      <td>0.0</td>\n",
       "      <td>2.0</td>\n",
       "    </tr>\n",
       "    <tr>\n",
       "      <th>3998</th>\n",
       "      <td>서울특별시 노원구 하계동</td>\n",
       "      <td>270</td>\n",
       "      <td>270</td>\n",
       "      <td>0</td>\n",
       "      <td>현대</td>\n",
       "      <td>월세</td>\n",
       "      <td>72.20</td>\n",
       "      <td>202009</td>\n",
       "      <td>10</td>\n",
       "      <td>31000</td>\n",
       "      <td>...</td>\n",
       "      <td>0.267815</td>\n",
       "      <td>0.46</td>\n",
       "      <td>2.11</td>\n",
       "      <td>167.0</td>\n",
       "      <td>1386.0</td>\n",
       "      <td>0</td>\n",
       "      <td>0.0</td>\n",
       "      <td>44.0</td>\n",
       "      <td>0.0</td>\n",
       "      <td>2.0</td>\n",
       "    </tr>\n",
       "    <tr>\n",
       "      <th>3999</th>\n",
       "      <td>서울특별시 노원구 하계동</td>\n",
       "      <td>270</td>\n",
       "      <td>270</td>\n",
       "      <td>0</td>\n",
       "      <td>현대</td>\n",
       "      <td>월세</td>\n",
       "      <td>84.95</td>\n",
       "      <td>202010</td>\n",
       "      <td>10</td>\n",
       "      <td>41400</td>\n",
       "      <td>...</td>\n",
       "      <td>0.267815</td>\n",
       "      <td>0.46</td>\n",
       "      <td>2.11</td>\n",
       "      <td>167.0</td>\n",
       "      <td>1386.0</td>\n",
       "      <td>0</td>\n",
       "      <td>0.0</td>\n",
       "      <td>44.0</td>\n",
       "      <td>0.0</td>\n",
       "      <td>2.0</td>\n",
       "    </tr>\n",
       "    <tr>\n",
       "      <th>4000</th>\n",
       "      <td>서울특별시 노원구 하계동</td>\n",
       "      <td>270</td>\n",
       "      <td>270</td>\n",
       "      <td>0</td>\n",
       "      <td>현대</td>\n",
       "      <td>월세</td>\n",
       "      <td>84.95</td>\n",
       "      <td>202011</td>\n",
       "      <td>23</td>\n",
       "      <td>39500</td>\n",
       "      <td>...</td>\n",
       "      <td>0.267815</td>\n",
       "      <td>0.46</td>\n",
       "      <td>2.11</td>\n",
       "      <td>167.0</td>\n",
       "      <td>1386.0</td>\n",
       "      <td>0</td>\n",
       "      <td>0.0</td>\n",
       "      <td>44.0</td>\n",
       "      <td>0.0</td>\n",
       "      <td>2.0</td>\n",
       "    </tr>\n",
       "    <tr>\n",
       "      <th>4001</th>\n",
       "      <td>서울특별시 노원구 하계동</td>\n",
       "      <td>270</td>\n",
       "      <td>270</td>\n",
       "      <td>0</td>\n",
       "      <td>현대</td>\n",
       "      <td>월세</td>\n",
       "      <td>84.95</td>\n",
       "      <td>202012</td>\n",
       "      <td>23</td>\n",
       "      <td>38500</td>\n",
       "      <td>...</td>\n",
       "      <td>0.267815</td>\n",
       "      <td>0.46</td>\n",
       "      <td>2.11</td>\n",
       "      <td>167.0</td>\n",
       "      <td>1386.0</td>\n",
       "      <td>0</td>\n",
       "      <td>0.0</td>\n",
       "      <td>44.0</td>\n",
       "      <td>0.0</td>\n",
       "      <td>2.0</td>\n",
       "    </tr>\n",
       "  </tbody>\n",
       "</table>\n",
       "<p>4002 rows × 27 columns</p>\n",
       "</div>"
      ],
      "text/plain": [
       "                시군구      번지   본번  부번       단지명 전월세구분  전용면적(㎡)    계약년월  계약일  \\\n",
       "0     서울특별시 노원구 공릉동  683-30  683  30  (683-30)    월세    20.00  202001    6   \n",
       "1     서울특별시 노원구 공릉동  683-30  683  30  (683-30)    월세    20.00  202007    9   \n",
       "2     서울특별시 노원구 공릉동  683-30  683  30  (683-30)    월세    20.00  202008    6   \n",
       "3     서울특별시 노원구 공릉동  683-30  683  30  (683-30)    월세    20.00  202008   21   \n",
       "4     서울특별시 노원구 공릉동  683-30  683  30  (683-30)    월세    20.00  202009    7   \n",
       "...             ...     ...  ...  ..       ...   ...      ...     ...  ...   \n",
       "3997  서울특별시 노원구 하계동     270  270   0        현대    월세    72.20  202009   10   \n",
       "3998  서울특별시 노원구 하계동     270  270   0        현대    월세    72.20  202009   10   \n",
       "3999  서울특별시 노원구 하계동     270  270   0        현대    월세    84.95  202010   10   \n",
       "4000  서울특별시 노원구 하계동     270  270   0        현대    월세    84.95  202011   23   \n",
       "4001  서울특별시 노원구 하계동     270  270   0        현대    월세    84.95  202012   23   \n",
       "\n",
       "      전월세(만원)  ...        공원  대형마트   백화점   cctv    주차대수  브랜드  주차관제   승강기  \\\n",
       "0       20500  ...  0.821341  1.49  4.33   37.0   219.0    0   NaN   NaN   \n",
       "1       20500  ...  0.821341  1.49  4.33   37.0   219.0    0   NaN   NaN   \n",
       "2       20500  ...  0.821341  1.49  4.33   37.0   219.0    0   NaN   NaN   \n",
       "3       16000  ...  0.821341  1.49  4.33   37.0   219.0    0   NaN   NaN   \n",
       "4       20000  ...  0.821341  1.49  4.33   37.0   219.0    0   NaN   NaN   \n",
       "...       ...  ...       ...   ...   ...    ...     ...  ...   ...   ...   \n",
       "3997    31000  ...  0.267815  0.46  2.11  167.0  1386.0    0   0.0  44.0   \n",
       "3998    31000  ...  0.267815  0.46  2.11  167.0  1386.0    0   0.0  44.0   \n",
       "3999    41400  ...  0.267815  0.46  2.11  167.0  1386.0    0   0.0  44.0   \n",
       "4000    39500  ...  0.267815  0.46  2.11  167.0  1386.0    0   0.0  44.0   \n",
       "4001    38500  ...  0.267815  0.46  2.11  167.0  1386.0    0   0.0  44.0   \n",
       "\n",
       "      복도유형  난방방식  \n",
       "0      NaN   NaN  \n",
       "1      NaN   NaN  \n",
       "2      NaN   NaN  \n",
       "3      NaN   NaN  \n",
       "4      NaN   NaN  \n",
       "...    ...   ...  \n",
       "3997   0.0   2.0  \n",
       "3998   0.0   2.0  \n",
       "3999   0.0   2.0  \n",
       "4000   0.0   2.0  \n",
       "4001   0.0   2.0  \n",
       "\n",
       "[4002 rows x 27 columns]"
      ]
     },
     "execution_count": 4,
     "metadata": {},
     "output_type": "execute_result"
    }
   ],
   "source": [
    "data_m = pd.read_csv('C:/Users/1102j/anaconda/dataScience/project/apt_data_month_added.csv', thousands=',', encoding='utf-8')\n",
    "data_m"
   ]
  },
  {
   "cell_type": "code",
   "execution_count": 5,
   "metadata": {},
   "outputs": [
    {
     "data": {
      "text/html": [
       "<div>\n",
       "<style scoped>\n",
       "    .dataframe tbody tr th:only-of-type {\n",
       "        vertical-align: middle;\n",
       "    }\n",
       "\n",
       "    .dataframe tbody tr th {\n",
       "        vertical-align: top;\n",
       "    }\n",
       "\n",
       "    .dataframe thead th {\n",
       "        text-align: right;\n",
       "    }\n",
       "</style>\n",
       "<table border=\"1\" class=\"dataframe\">\n",
       "  <thead>\n",
       "    <tr style=\"text-align: right;\">\n",
       "      <th></th>\n",
       "      <th>시군구</th>\n",
       "      <th>번지</th>\n",
       "      <th>본번</th>\n",
       "      <th>부번</th>\n",
       "      <th>단지명</th>\n",
       "      <th>전월세구분</th>\n",
       "      <th>전용면적(㎡)</th>\n",
       "      <th>계약년월</th>\n",
       "      <th>계약일</th>\n",
       "      <th>전월세(만원)</th>\n",
       "      <th>...</th>\n",
       "      <th>공원</th>\n",
       "      <th>대형마트</th>\n",
       "      <th>백화점</th>\n",
       "      <th>cctv</th>\n",
       "      <th>주차대수</th>\n",
       "      <th>브랜드</th>\n",
       "      <th>주차관제</th>\n",
       "      <th>승강기</th>\n",
       "      <th>복도유형</th>\n",
       "      <th>난방방식</th>\n",
       "    </tr>\n",
       "  </thead>\n",
       "  <tbody>\n",
       "    <tr>\n",
       "      <th>0</th>\n",
       "      <td>서울특별시 노원구 공릉동</td>\n",
       "      <td>404-3</td>\n",
       "      <td>404</td>\n",
       "      <td>3</td>\n",
       "      <td>건영아파트</td>\n",
       "      <td>전세</td>\n",
       "      <td>84.75</td>\n",
       "      <td>202007</td>\n",
       "      <td>18</td>\n",
       "      <td>34000</td>\n",
       "      <td>...</td>\n",
       "      <td>0.252798</td>\n",
       "      <td>0.88</td>\n",
       "      <td>3.54</td>\n",
       "      <td>37.0</td>\n",
       "      <td>219.0</td>\n",
       "      <td>0</td>\n",
       "      <td>NaN</td>\n",
       "      <td>NaN</td>\n",
       "      <td>NaN</td>\n",
       "      <td>NaN</td>\n",
       "    </tr>\n",
       "    <tr>\n",
       "      <th>1</th>\n",
       "      <td>서울특별시 노원구 공릉동</td>\n",
       "      <td>744</td>\n",
       "      <td>744</td>\n",
       "      <td>0</td>\n",
       "      <td>건영장미아파트</td>\n",
       "      <td>전세</td>\n",
       "      <td>84.88</td>\n",
       "      <td>202002</td>\n",
       "      <td>8</td>\n",
       "      <td>35000</td>\n",
       "      <td>...</td>\n",
       "      <td>0.253455</td>\n",
       "      <td>1.24</td>\n",
       "      <td>3.18</td>\n",
       "      <td>37.0</td>\n",
       "      <td>219.0</td>\n",
       "      <td>0</td>\n",
       "      <td>0.0</td>\n",
       "      <td>5.0</td>\n",
       "      <td>0.0</td>\n",
       "      <td>0.0</td>\n",
       "    </tr>\n",
       "    <tr>\n",
       "      <th>2</th>\n",
       "      <td>서울특별시 노원구 공릉동</td>\n",
       "      <td>744</td>\n",
       "      <td>744</td>\n",
       "      <td>0</td>\n",
       "      <td>건영장미아파트</td>\n",
       "      <td>전세</td>\n",
       "      <td>84.88</td>\n",
       "      <td>202007</td>\n",
       "      <td>1</td>\n",
       "      <td>40000</td>\n",
       "      <td>...</td>\n",
       "      <td>0.253455</td>\n",
       "      <td>1.24</td>\n",
       "      <td>3.18</td>\n",
       "      <td>37.0</td>\n",
       "      <td>219.0</td>\n",
       "      <td>0</td>\n",
       "      <td>0.0</td>\n",
       "      <td>5.0</td>\n",
       "      <td>0.0</td>\n",
       "      <td>0.0</td>\n",
       "    </tr>\n",
       "    <tr>\n",
       "      <th>3</th>\n",
       "      <td>서울특별시 노원구 공릉동</td>\n",
       "      <td>744</td>\n",
       "      <td>744</td>\n",
       "      <td>0</td>\n",
       "      <td>건영장미아파트</td>\n",
       "      <td>전세</td>\n",
       "      <td>59.87</td>\n",
       "      <td>202007</td>\n",
       "      <td>11</td>\n",
       "      <td>27000</td>\n",
       "      <td>...</td>\n",
       "      <td>0.253455</td>\n",
       "      <td>1.24</td>\n",
       "      <td>3.18</td>\n",
       "      <td>37.0</td>\n",
       "      <td>219.0</td>\n",
       "      <td>0</td>\n",
       "      <td>0.0</td>\n",
       "      <td>5.0</td>\n",
       "      <td>0.0</td>\n",
       "      <td>0.0</td>\n",
       "    </tr>\n",
       "    <tr>\n",
       "      <th>4</th>\n",
       "      <td>서울특별시 노원구 공릉동</td>\n",
       "      <td>744</td>\n",
       "      <td>744</td>\n",
       "      <td>0</td>\n",
       "      <td>건영장미아파트</td>\n",
       "      <td>전세</td>\n",
       "      <td>59.87</td>\n",
       "      <td>202007</td>\n",
       "      <td>13</td>\n",
       "      <td>28000</td>\n",
       "      <td>...</td>\n",
       "      <td>0.253455</td>\n",
       "      <td>1.24</td>\n",
       "      <td>3.18</td>\n",
       "      <td>37.0</td>\n",
       "      <td>219.0</td>\n",
       "      <td>0</td>\n",
       "      <td>0.0</td>\n",
       "      <td>5.0</td>\n",
       "      <td>0.0</td>\n",
       "      <td>0.0</td>\n",
       "    </tr>\n",
       "    <tr>\n",
       "      <th>...</th>\n",
       "      <td>...</td>\n",
       "      <td>...</td>\n",
       "      <td>...</td>\n",
       "      <td>...</td>\n",
       "      <td>...</td>\n",
       "      <td>...</td>\n",
       "      <td>...</td>\n",
       "      <td>...</td>\n",
       "      <td>...</td>\n",
       "      <td>...</td>\n",
       "      <td>...</td>\n",
       "      <td>...</td>\n",
       "      <td>...</td>\n",
       "      <td>...</td>\n",
       "      <td>...</td>\n",
       "      <td>...</td>\n",
       "      <td>...</td>\n",
       "      <td>...</td>\n",
       "      <td>...</td>\n",
       "      <td>...</td>\n",
       "      <td>...</td>\n",
       "    </tr>\n",
       "    <tr>\n",
       "      <th>10533</th>\n",
       "      <td>서울특별시 노원구 하계동</td>\n",
       "      <td>270</td>\n",
       "      <td>270</td>\n",
       "      <td>0</td>\n",
       "      <td>현대</td>\n",
       "      <td>전세</td>\n",
       "      <td>84.95</td>\n",
       "      <td>202010</td>\n",
       "      <td>29</td>\n",
       "      <td>60000</td>\n",
       "      <td>...</td>\n",
       "      <td>0.267815</td>\n",
       "      <td>0.46</td>\n",
       "      <td>2.11</td>\n",
       "      <td>167.0</td>\n",
       "      <td>1386.0</td>\n",
       "      <td>0</td>\n",
       "      <td>0.0</td>\n",
       "      <td>44.0</td>\n",
       "      <td>0.0</td>\n",
       "      <td>2.0</td>\n",
       "    </tr>\n",
       "    <tr>\n",
       "      <th>10534</th>\n",
       "      <td>서울특별시 노원구 하계동</td>\n",
       "      <td>270</td>\n",
       "      <td>270</td>\n",
       "      <td>0</td>\n",
       "      <td>현대</td>\n",
       "      <td>전세</td>\n",
       "      <td>84.95</td>\n",
       "      <td>202011</td>\n",
       "      <td>7</td>\n",
       "      <td>42000</td>\n",
       "      <td>...</td>\n",
       "      <td>0.267815</td>\n",
       "      <td>0.46</td>\n",
       "      <td>2.11</td>\n",
       "      <td>167.0</td>\n",
       "      <td>1386.0</td>\n",
       "      <td>0</td>\n",
       "      <td>0.0</td>\n",
       "      <td>44.0</td>\n",
       "      <td>0.0</td>\n",
       "      <td>2.0</td>\n",
       "    </tr>\n",
       "    <tr>\n",
       "      <th>10535</th>\n",
       "      <td>서울특별시 노원구 하계동</td>\n",
       "      <td>270</td>\n",
       "      <td>270</td>\n",
       "      <td>0</td>\n",
       "      <td>현대</td>\n",
       "      <td>전세</td>\n",
       "      <td>84.95</td>\n",
       "      <td>202012</td>\n",
       "      <td>2</td>\n",
       "      <td>65000</td>\n",
       "      <td>...</td>\n",
       "      <td>0.267815</td>\n",
       "      <td>0.46</td>\n",
       "      <td>2.11</td>\n",
       "      <td>167.0</td>\n",
       "      <td>1386.0</td>\n",
       "      <td>0</td>\n",
       "      <td>0.0</td>\n",
       "      <td>44.0</td>\n",
       "      <td>0.0</td>\n",
       "      <td>2.0</td>\n",
       "    </tr>\n",
       "    <tr>\n",
       "      <th>10536</th>\n",
       "      <td>서울특별시 노원구 하계동</td>\n",
       "      <td>270</td>\n",
       "      <td>270</td>\n",
       "      <td>0</td>\n",
       "      <td>현대</td>\n",
       "      <td>전세</td>\n",
       "      <td>84.95</td>\n",
       "      <td>202012</td>\n",
       "      <td>9</td>\n",
       "      <td>37800</td>\n",
       "      <td>...</td>\n",
       "      <td>0.267815</td>\n",
       "      <td>0.46</td>\n",
       "      <td>2.11</td>\n",
       "      <td>167.0</td>\n",
       "      <td>1386.0</td>\n",
       "      <td>0</td>\n",
       "      <td>0.0</td>\n",
       "      <td>44.0</td>\n",
       "      <td>0.0</td>\n",
       "      <td>2.0</td>\n",
       "    </tr>\n",
       "    <tr>\n",
       "      <th>10537</th>\n",
       "      <td>서울특별시 노원구 하계동</td>\n",
       "      <td>270</td>\n",
       "      <td>270</td>\n",
       "      <td>0</td>\n",
       "      <td>현대</td>\n",
       "      <td>전세</td>\n",
       "      <td>71.68</td>\n",
       "      <td>202012</td>\n",
       "      <td>22</td>\n",
       "      <td>45000</td>\n",
       "      <td>...</td>\n",
       "      <td>0.267815</td>\n",
       "      <td>0.46</td>\n",
       "      <td>2.11</td>\n",
       "      <td>167.0</td>\n",
       "      <td>1386.0</td>\n",
       "      <td>0</td>\n",
       "      <td>0.0</td>\n",
       "      <td>44.0</td>\n",
       "      <td>0.0</td>\n",
       "      <td>2.0</td>\n",
       "    </tr>\n",
       "  </tbody>\n",
       "</table>\n",
       "<p>10538 rows × 27 columns</p>\n",
       "</div>"
      ],
      "text/plain": [
       "                 시군구     번지   본번  부번      단지명 전월세구분  전용면적(㎡)    계약년월  계약일  \\\n",
       "0      서울특별시 노원구 공릉동  404-3  404   3    건영아파트    전세    84.75  202007   18   \n",
       "1      서울특별시 노원구 공릉동    744  744   0  건영장미아파트    전세    84.88  202002    8   \n",
       "2      서울특별시 노원구 공릉동    744  744   0  건영장미아파트    전세    84.88  202007    1   \n",
       "3      서울특별시 노원구 공릉동    744  744   0  건영장미아파트    전세    59.87  202007   11   \n",
       "4      서울특별시 노원구 공릉동    744  744   0  건영장미아파트    전세    59.87  202007   13   \n",
       "...              ...    ...  ...  ..      ...   ...      ...     ...  ...   \n",
       "10533  서울특별시 노원구 하계동    270  270   0       현대    전세    84.95  202010   29   \n",
       "10534  서울특별시 노원구 하계동    270  270   0       현대    전세    84.95  202011    7   \n",
       "10535  서울특별시 노원구 하계동    270  270   0       현대    전세    84.95  202012    2   \n",
       "10536  서울특별시 노원구 하계동    270  270   0       현대    전세    84.95  202012    9   \n",
       "10537  서울특별시 노원구 하계동    270  270   0       현대    전세    71.68  202012   22   \n",
       "\n",
       "       전월세(만원)  ...        공원  대형마트   백화점   cctv    주차대수  브랜드  주차관제   승강기  \\\n",
       "0        34000  ...  0.252798  0.88  3.54   37.0   219.0    0   NaN   NaN   \n",
       "1        35000  ...  0.253455  1.24  3.18   37.0   219.0    0   0.0   5.0   \n",
       "2        40000  ...  0.253455  1.24  3.18   37.0   219.0    0   0.0   5.0   \n",
       "3        27000  ...  0.253455  1.24  3.18   37.0   219.0    0   0.0   5.0   \n",
       "4        28000  ...  0.253455  1.24  3.18   37.0   219.0    0   0.0   5.0   \n",
       "...        ...  ...       ...   ...   ...    ...     ...  ...   ...   ...   \n",
       "10533    60000  ...  0.267815  0.46  2.11  167.0  1386.0    0   0.0  44.0   \n",
       "10534    42000  ...  0.267815  0.46  2.11  167.0  1386.0    0   0.0  44.0   \n",
       "10535    65000  ...  0.267815  0.46  2.11  167.0  1386.0    0   0.0  44.0   \n",
       "10536    37800  ...  0.267815  0.46  2.11  167.0  1386.0    0   0.0  44.0   \n",
       "10537    45000  ...  0.267815  0.46  2.11  167.0  1386.0    0   0.0  44.0   \n",
       "\n",
       "       복도유형  난방방식  \n",
       "0       NaN   NaN  \n",
       "1       0.0   0.0  \n",
       "2       0.0   0.0  \n",
       "3       0.0   0.0  \n",
       "4       0.0   0.0  \n",
       "...     ...   ...  \n",
       "10533   0.0   2.0  \n",
       "10534   0.0   2.0  \n",
       "10535   0.0   2.0  \n",
       "10536   0.0   2.0  \n",
       "10537   0.0   2.0  \n",
       "\n",
       "[10538 rows x 27 columns]"
      ]
     },
     "execution_count": 5,
     "metadata": {},
     "output_type": "execute_result"
    }
   ],
   "source": [
    "data_y = pd.read_csv('C:/Users/1102j/anaconda/dataScience/project/apt_data_year_added.csv', thousands=',', encoding='utf-8')\n",
    "data_y"
   ]
  },
  {
   "cell_type": "markdown",
   "metadata": {},
   "source": [
    "# 월세 (RandomForestRegresser)"
   ]
  },
  {
   "cell_type": "code",
   "execution_count": 22,
   "metadata": {},
   "outputs": [],
   "source": [
    "data_m = data_m.dropna()"
   ]
  },
  {
   "cell_type": "code",
   "execution_count": 23,
   "metadata": {},
   "outputs": [],
   "source": [
    "xm = data_m[['전용면적(㎡)', '층', '건축년도', '초등학교', '병원', '공원', '대형마트', '백화점', 'cctv', '주차대수', '브랜드', '승강기', '복도유형', '난방방식']]\n",
    "ym = data_m[['전월세(만원)']]"
   ]
  },
  {
   "cell_type": "code",
   "execution_count": 24,
   "metadata": {},
   "outputs": [],
   "source": [
    "ym = np.log(ym)"
   ]
  },
  {
   "cell_type": "code",
   "execution_count": 25,
   "metadata": {},
   "outputs": [],
   "source": [
    "x_train, x_test, y_train, y_test = train_test_split(xm, ym, test_size=0.2)"
   ]
  },
  {
   "cell_type": "code",
   "execution_count": 26,
   "metadata": {},
   "outputs": [],
   "source": [
    "params ={\n",
    "    'n_estimators':[1000],\n",
    "    'max_depth':[6,8,10,12],\n",
    "    'min_samples_leaf':[8,12,18],\n",
    "    'min_samples_split':[8,16,20]\n",
    "}"
   ]
  },
  {
   "cell_type": "code",
   "execution_count": 27,
   "metadata": {},
   "outputs": [],
   "source": [
    "rf = RandomForestRegressor(random_state=0, n_jobs=-1)\n",
    "grid_cv = GridSearchCV(rf, param_grid=params, cv=2, n_jobs=-1)"
   ]
  },
  {
   "cell_type": "code",
   "execution_count": 28,
   "metadata": {},
   "outputs": [
    {
     "name": "stderr",
     "output_type": "stream",
     "text": [
      "D:\\program\\anaconda3\\lib\\site-packages\\sklearn\\model_selection\\_search.py:765: DataConversionWarning: A column-vector y was passed when a 1d array was expected. Please change the shape of y to (n_samples,), for example using ravel().\n",
      "  self.best_estimator_.fit(X, y, **fit_params)\n"
     ]
    },
    {
     "data": {
      "text/plain": [
       "GridSearchCV(cv=2, estimator=RandomForestRegressor(n_jobs=-1, random_state=0),\n",
       "             n_jobs=-1,\n",
       "             param_grid={'max_depth': [6, 8, 10, 12],\n",
       "                         'min_samples_leaf': [8, 12, 18],\n",
       "                         'min_samples_split': [8, 16, 20],\n",
       "                         'n_estimators': [1000]})"
      ]
     },
     "execution_count": 28,
     "metadata": {},
     "output_type": "execute_result"
    }
   ],
   "source": [
    "grid_cv.fit(x_train,y_train)"
   ]
  },
  {
   "cell_type": "code",
   "execution_count": 29,
   "metadata": {},
   "outputs": [
    {
     "data": {
      "text/plain": [
       "{'max_depth': 10,\n",
       " 'min_samples_leaf': 8,\n",
       " 'min_samples_split': 16,\n",
       " 'n_estimators': 1000}"
      ]
     },
     "execution_count": 29,
     "metadata": {},
     "output_type": "execute_result"
    }
   ],
   "source": [
    "grid_cv.best_params_"
   ]
  },
  {
   "cell_type": "code",
   "execution_count": 30,
   "metadata": {},
   "outputs": [
    {
     "data": {
      "text/plain": [
       "0.8104465287243581"
      ]
     },
     "execution_count": 30,
     "metadata": {},
     "output_type": "execute_result"
    }
   ],
   "source": [
    "grid_cv.score(x_test, y_test)"
   ]
  },
  {
   "cell_type": "code",
   "execution_count": 31,
   "metadata": {},
   "outputs": [],
   "source": [
    "model = RandomForestRegressor(n_estimators=1000, max_depth=10, min_samples_leaf=8, min_samples_split=16, random_state=0, n_jobs=-1)"
   ]
  },
  {
   "cell_type": "code",
   "execution_count": 32,
   "metadata": {},
   "outputs": [
    {
     "name": "stderr",
     "output_type": "stream",
     "text": [
      "<ipython-input-32-139fa7af76d2>:1: DataConversionWarning: A column-vector y was passed when a 1d array was expected. Please change the shape of y to (n_samples,), for example using ravel().\n",
      "  model.fit(x_train, y_train)\n"
     ]
    },
    {
     "data": {
      "text/plain": [
       "RandomForestRegressor(max_depth=10, min_samples_leaf=8, min_samples_split=16,\n",
       "                      n_estimators=1000, n_jobs=-1, random_state=0)"
      ]
     },
     "execution_count": 32,
     "metadata": {},
     "output_type": "execute_result"
    }
   ],
   "source": [
    "model.fit(x_train, y_train)"
   ]
  },
  {
   "cell_type": "code",
   "execution_count": 33,
   "metadata": {},
   "outputs": [],
   "source": [
    "y_pred = model.predict(x_test)"
   ]
  },
  {
   "cell_type": "code",
   "execution_count": 34,
   "metadata": {},
   "outputs": [
    {
     "data": {
      "text/plain": [
       "0.810446528724358"
      ]
     },
     "execution_count": 34,
     "metadata": {},
     "output_type": "execute_result"
    }
   ],
   "source": [
    "model.score(x_test, y_test)"
   ]
  },
  {
   "cell_type": "code",
   "execution_count": 35,
   "metadata": {
    "scrolled": true
   },
   "outputs": [
    {
     "data": {
      "text/plain": [
       "0.03778629469556131"
      ]
     },
     "execution_count": 35,
     "metadata": {},
     "output_type": "execute_result"
    }
   ],
   "source": [
    "mean_squared_error(y_test, y_pred)"
   ]
  },
  {
   "cell_type": "code",
   "execution_count": 36,
   "metadata": {},
   "outputs": [
    {
     "data": {
      "text/plain": [
       "array([7.93888975e-01, 8.60476241e-03, 6.58420497e-02, 1.89886377e-02,\n",
       "       2.95006891e-02, 8.97198347e-03, 2.02303518e-02, 1.44730483e-02,\n",
       "       9.26875967e-03, 9.54532798e-03, 4.58531335e-04, 1.63458844e-02,\n",
       "       7.91728301e-04, 3.08927054e-03])"
      ]
     },
     "execution_count": 36,
     "metadata": {},
     "output_type": "execute_result"
    }
   ],
   "source": [
    "model.feature_importances_"
   ]
  },
  {
   "cell_type": "code",
   "execution_count": 37,
   "metadata": {},
   "outputs": [
    {
     "data": {
      "image/png": "[encoded data removed]",
      "text/plain": [
       "<Figure size 432x288 with 1 Axes>"
      ]
     },
     "metadata": {
      "needs_background": "light"
     },
     "output_type": "display_data"
    }
   ],
   "source": [
    "plt.barh(range(14), model.feature_importances_)\n",
    "plt.yticks(range(14), ['전용면적(㎡)', '층', '건축년도', '초등학교', '병원', '공원', '대형마트', '백화점', 'cctv', '주차대수', '브랜드', '승강기', '복도유형', '난방방식'])\n",
    "plt.show()"
   ]
  },
  {
   "cell_type": "markdown",
   "metadata": {},
   "source": [
    "# 전세 (RandomForestRegresser)"
   ]
  },
  {
   "cell_type": "code",
   "execution_count": 6,
   "metadata": {},
   "outputs": [],
   "source": [
    "data_y = data_y.dropna()"
   ]
  },
  {
   "cell_type": "code",
   "execution_count": 7,
   "metadata": {},
   "outputs": [],
   "source": [
    "xy = data_y[['전용면적(㎡)', '층', '건축년도', '초등학교', '병원', '공원', '대형마트', '백화점', 'cctv', '주차대수', '브랜드', '승강기', '복도유형', '난방방식']]\n",
    "yy = data_y[['전월세(만원)']]"
   ]
  },
  {
   "cell_type": "code",
   "execution_count": 8,
   "metadata": {},
   "outputs": [],
   "source": [
    "yy = np.log(yy)"
   ]
  },
  {
   "cell_type": "code",
   "execution_count": 9,
   "metadata": {},
   "outputs": [],
   "source": [
    "x_train, x_test, y_train, y_test = train_test_split(xy, yy, test_size=0.2)"
   ]
  },
  {
   "cell_type": "code",
   "execution_count": 10,
   "metadata": {},
   "outputs": [],
   "source": [
    "params ={\n",
    "    'n_estimators':[1000],\n",
    "    'max_depth':[6,8,10,12],\n",
    "    'min_samples_leaf':[8,12,18],\n",
    "    'min_samples_split':[8,16,20]\n",
    "}"
   ]
  },
  {
   "cell_type": "code",
   "execution_count": 11,
   "metadata": {},
   "outputs": [],
   "source": [
    "rf = RandomForestRegressor(random_state=0, n_jobs=-1)\n",
    "grid_cv = GridSearchCV(rf, param_grid=params, cv=2, n_jobs=-1)"
   ]
  },
  {
   "cell_type": "code",
   "execution_count": 12,
   "metadata": {},
   "outputs": [
    {
     "name": "stderr",
     "output_type": "stream",
     "text": [
      "D:\\program\\anaconda3\\lib\\site-packages\\sklearn\\model_selection\\_search.py:765: DataConversionWarning: A column-vector y was passed when a 1d array was expected. Please change the shape of y to (n_samples,), for example using ravel().\n",
      "  self.best_estimator_.fit(X, y, **fit_params)\n"
     ]
    },
    {
     "data": {
      "text/plain": [
       "GridSearchCV(cv=2, estimator=RandomForestRegressor(n_jobs=-1, random_state=0),\n",
       "             n_jobs=-1,\n",
       "             param_grid={'max_depth': [6, 8, 10, 12],\n",
       "                         'min_samples_leaf': [8, 12, 18],\n",
       "                         'min_samples_split': [8, 16, 20],\n",
       "                         'n_estimators': [1000]})"
      ]
     },
     "execution_count": 12,
     "metadata": {},
     "output_type": "execute_result"
    }
   ],
   "source": [
    "grid_cv.fit(x_train,y_train)"
   ]
  },
  {
   "cell_type": "code",
   "execution_count": 13,
   "metadata": {},
   "outputs": [
    {
     "data": {
      "text/plain": [
       "{'max_depth': 10,\n",
       " 'min_samples_leaf': 8,\n",
       " 'min_samples_split': 16,\n",
       " 'n_estimators': 1000}"
      ]
     },
     "execution_count": 13,
     "metadata": {},
     "output_type": "execute_result"
    }
   ],
   "source": [
    "grid_cv.best_params_"
   ]
  },
  {
   "cell_type": "code",
   "execution_count": 14,
   "metadata": {},
   "outputs": [
    {
     "data": {
      "text/plain": [
       "0.8331519353656205"
      ]
     },
     "execution_count": 14,
     "metadata": {},
     "output_type": "execute_result"
    }
   ],
   "source": [
    "grid_cv.score(x_test, y_test)"
   ]
  },
  {
   "cell_type": "code",
   "execution_count": 15,
   "metadata": {},
   "outputs": [],
   "source": [
    "model = RandomForestRegressor(n_estimators=1000, max_depth=10, min_samples_leaf=8, min_samples_split=16, random_state=0, n_jobs=-1)"
   ]
  },
  {
   "cell_type": "code",
   "execution_count": 16,
   "metadata": {},
   "outputs": [
    {
     "name": "stderr",
     "output_type": "stream",
     "text": [
      "<ipython-input-16-139fa7af76d2>:1: DataConversionWarning: A column-vector y was passed when a 1d array was expected. Please change the shape of y to (n_samples,), for example using ravel().\n",
      "  model.fit(x_train, y_train)\n"
     ]
    },
    {
     "data": {
      "text/plain": [
       "RandomForestRegressor(max_depth=10, min_samples_leaf=8, min_samples_split=16,\n",
       "                      n_estimators=1000, n_jobs=-1, random_state=0)"
      ]
     },
     "execution_count": 16,
     "metadata": {},
     "output_type": "execute_result"
    }
   ],
   "source": [
    "model.fit(x_train, y_train)"
   ]
  },
  {
   "cell_type": "code",
   "execution_count": 17,
   "metadata": {},
   "outputs": [],
   "source": [
    "y_pred = model.predict(x_test)"
   ]
  },
  {
   "cell_type": "code",
   "execution_count": 18,
   "metadata": {},
   "outputs": [
    {
     "data": {
      "text/plain": [
       "0.8331519353656204"
      ]
     },
     "execution_count": 18,
     "metadata": {},
     "output_type": "execute_result"
    }
   ],
   "source": [
    "model.score(x_test, y_test)"
   ]
  },
  {
   "cell_type": "code",
   "execution_count": 19,
   "metadata": {},
   "outputs": [
    {
     "data": {
      "text/plain": [
       "0.035437455595482"
      ]
     },
     "execution_count": 19,
     "metadata": {},
     "output_type": "execute_result"
    }
   ],
   "source": [
    "mean_squared_error(y_test, y_pred)"
   ]
  },
  {
   "cell_type": "code",
   "execution_count": 20,
   "metadata": {},
   "outputs": [
    {
     "data": {
      "text/plain": [
       "array([8.60940657e-01, 1.05214263e-02, 4.32725202e-02, 4.94612171e-03,\n",
       "       1.68597240e-02, 7.44766158e-03, 1.70840071e-02, 1.21612939e-02,\n",
       "       5.02371253e-03, 7.03181897e-03, 7.91511812e-04, 7.50585606e-03,\n",
       "       3.23843555e-04, 6.08984575e-03])"
      ]
     },
     "execution_count": 20,
     "metadata": {},
     "output_type": "execute_result"
    }
   ],
   "source": [
    "model.feature_importances_"
   ]
  },
  {
   "cell_type": "code",
   "execution_count": 21,
   "metadata": {},
   "outputs": [
    {
     "data": {
      "image/png": "[encoded data removed]",
      "text/plain": [
       "<Figure size 432x288 with 1 Axes>"
      ]
     },
     "metadata": {
      "needs_background": "light"
     },
     "output_type": "display_data"
    }
   ],
   "source": [
    "plt.barh(range(14), model.feature_importances_)\n",
    "plt.yticks(range(14), ['전용면적(㎡)', '층', '건축년도', '초등학교', '병원', '공원', '대형마트', '백화점', 'cctv', '주차대수', '브랜드', '승강기', '복도유형', '난방방식'])\n",
    "plt.show()"
   ]
  },
  {
   "cell_type": "code",
   "execution_count": null,
   "metadata": {},
   "outputs": [],
   "source": []
  }
 ],
 "metadata": {
  "kernelspec": {
   "display_name": "Python 3",
   "language": "python",
   "name": "python3"
  },
  "language_info": {
   "codemirror_mode": {
    "name": "ipython",
    "version": 3
   },
   "file_extension": ".py",
   "mimetype": "text/x-python",
   "name": "python",
   "nbconvert_exporter": "python",
   "pygments_lexer": "ipython3",
   "version": "3.8.5"
  }
 },
 "nbformat": 4,
 "nbformat_minor": 4
}
